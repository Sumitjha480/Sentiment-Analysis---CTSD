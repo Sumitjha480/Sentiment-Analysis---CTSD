{
  "nbformat": 4,
  "nbformat_minor": 0,
  "metadata": {
    "colab": {
      "provenance": [],
      "toc_visible": true
    },
    "kernelspec": {
      "name": "python3",
      "display_name": "Python 3"
    },
    "language_info": {
      "name": "python"
    },
    "accelerator": "GPU",
    "gpuClass": "standard",
    "widgets": {
      "application/vnd.jupyter.widget-state+json": {
        "f5d5e4a46b5c49da90ab53a1d3ab2ac0": {
          "model_module": "@jupyter-widgets/controls",
          "model_name": "HBoxModel",
          "model_module_version": "1.5.0",
          "state": {
            "_dom_classes": [],
            "_model_module": "@jupyter-widgets/controls",
            "_model_module_version": "1.5.0",
            "_model_name": "HBoxModel",
            "_view_count": null,
            "_view_module": "@jupyter-widgets/controls",
            "_view_module_version": "1.5.0",
            "_view_name": "HBoxView",
            "box_style": "",
            "children": [
              "IPY_MODEL_7ae717f8a5d643b79816986568e133ee",
              "IPY_MODEL_d30b417294844da7af87dd85bb98cc7e",
              "IPY_MODEL_6a8a3c34ca384faab4f0dfbaa44a2031"
            ],
            "layout": "IPY_MODEL_29e0950bb43d41c099e2ee2c6f582df5"
          }
        },
        "7ae717f8a5d643b79816986568e133ee": {
          "model_module": "@jupyter-widgets/controls",
          "model_name": "HTMLModel",
          "model_module_version": "1.5.0",
          "state": {
            "_dom_classes": [],
            "_model_module": "@jupyter-widgets/controls",
            "_model_module_version": "1.5.0",
            "_model_name": "HTMLModel",
            "_view_count": null,
            "_view_module": "@jupyter-widgets/controls",
            "_view_module_version": "1.5.0",
            "_view_name": "HTMLView",
            "description": "",
            "description_tooltip": null,
            "layout": "IPY_MODEL_1dea8c35e61a41288a4639b63f2b2209",
            "placeholder": "​",
            "style": "IPY_MODEL_b41ff9ee19624ec2bbe0afe18fd548f7",
            "value": "Downloading tf_model.h5: 100%"
          }
        },
        "d30b417294844da7af87dd85bb98cc7e": {
          "model_module": "@jupyter-widgets/controls",
          "model_name": "FloatProgressModel",
          "model_module_version": "1.5.0",
          "state": {
            "_dom_classes": [],
            "_model_module": "@jupyter-widgets/controls",
            "_model_module_version": "1.5.0",
            "_model_name": "FloatProgressModel",
            "_view_count": null,
            "_view_module": "@jupyter-widgets/controls",
            "_view_module_version": "1.5.0",
            "_view_name": "ProgressView",
            "bar_style": "success",
            "description": "",
            "description_tooltip": null,
            "layout": "IPY_MODEL_857cf6425d4247a8ad5f7c2c2792ebe6",
            "max": 526681800,
            "min": 0,
            "orientation": "horizontal",
            "style": "IPY_MODEL_a12aceb7fbb04b4bac33d0925971c787",
            "value": 526681800
          }
        },
        "6a8a3c34ca384faab4f0dfbaa44a2031": {
          "model_module": "@jupyter-widgets/controls",
          "model_name": "HTMLModel",
          "model_module_version": "1.5.0",
          "state": {
            "_dom_classes": [],
            "_model_module": "@jupyter-widgets/controls",
            "_model_module_version": "1.5.0",
            "_model_name": "HTMLModel",
            "_view_count": null,
            "_view_module": "@jupyter-widgets/controls",
            "_view_module_version": "1.5.0",
            "_view_name": "HTMLView",
            "description": "",
            "description_tooltip": null,
            "layout": "IPY_MODEL_bf8351c4a38d4d7c8f69c992a8f50d87",
            "placeholder": "​",
            "style": "IPY_MODEL_542246388d6d42a38753452d864d18ea",
            "value": " 527M/527M [00:01&lt;00:00, 249MB/s]"
          }
        },
        "29e0950bb43d41c099e2ee2c6f582df5": {
          "model_module": "@jupyter-widgets/base",
          "model_name": "LayoutModel",
          "model_module_version": "1.2.0",
          "state": {
            "_model_module": "@jupyter-widgets/base",
            "_model_module_version": "1.2.0",
            "_model_name": "LayoutModel",
            "_view_count": null,
            "_view_module": "@jupyter-widgets/base",
            "_view_module_version": "1.2.0",
            "_view_name": "LayoutView",
            "align_content": null,
            "align_items": null,
            "align_self": null,
            "border": null,
            "bottom": null,
            "display": null,
            "flex": null,
            "flex_flow": null,
            "grid_area": null,
            "grid_auto_columns": null,
            "grid_auto_flow": null,
            "grid_auto_rows": null,
            "grid_column": null,
            "grid_gap": null,
            "grid_row": null,
            "grid_template_areas": null,
            "grid_template_columns": null,
            "grid_template_rows": null,
            "height": null,
            "justify_content": null,
            "justify_items": null,
            "left": null,
            "margin": null,
            "max_height": null,
            "max_width": null,
            "min_height": null,
            "min_width": null,
            "object_fit": null,
            "object_position": null,
            "order": null,
            "overflow": null,
            "overflow_x": null,
            "overflow_y": null,
            "padding": null,
            "right": null,
            "top": null,
            "visibility": null,
            "width": null
          }
        },
        "1dea8c35e61a41288a4639b63f2b2209": {
          "model_module": "@jupyter-widgets/base",
          "model_name": "LayoutModel",
          "model_module_version": "1.2.0",
          "state": {
            "_model_module": "@jupyter-widgets/base",
            "_model_module_version": "1.2.0",
            "_model_name": "LayoutModel",
            "_view_count": null,
            "_view_module": "@jupyter-widgets/base",
            "_view_module_version": "1.2.0",
            "_view_name": "LayoutView",
            "align_content": null,
            "align_items": null,
            "align_self": null,
            "border": null,
            "bottom": null,
            "display": null,
            "flex": null,
            "flex_flow": null,
            "grid_area": null,
            "grid_auto_columns": null,
            "grid_auto_flow": null,
            "grid_auto_rows": null,
            "grid_column": null,
            "grid_gap": null,
            "grid_row": null,
            "grid_template_areas": null,
            "grid_template_columns": null,
            "grid_template_rows": null,
            "height": null,
            "justify_content": null,
            "justify_items": null,
            "left": null,
            "margin": null,
            "max_height": null,
            "max_width": null,
            "min_height": null,
            "min_width": null,
            "object_fit": null,
            "object_position": null,
            "order": null,
            "overflow": null,
            "overflow_x": null,
            "overflow_y": null,
            "padding": null,
            "right": null,
            "top": null,
            "visibility": null,
            "width": null
          }
        },
        "b41ff9ee19624ec2bbe0afe18fd548f7": {
          "model_module": "@jupyter-widgets/controls",
          "model_name": "DescriptionStyleModel",
          "model_module_version": "1.5.0",
          "state": {
            "_model_module": "@jupyter-widgets/controls",
            "_model_module_version": "1.5.0",
            "_model_name": "DescriptionStyleModel",
            "_view_count": null,
            "_view_module": "@jupyter-widgets/base",
            "_view_module_version": "1.2.0",
            "_view_name": "StyleView",
            "description_width": ""
          }
        },
        "857cf6425d4247a8ad5f7c2c2792ebe6": {
          "model_module": "@jupyter-widgets/base",
          "model_name": "LayoutModel",
          "model_module_version": "1.2.0",
          "state": {
            "_model_module": "@jupyter-widgets/base",
            "_model_module_version": "1.2.0",
            "_model_name": "LayoutModel",
            "_view_count": null,
            "_view_module": "@jupyter-widgets/base",
            "_view_module_version": "1.2.0",
            "_view_name": "LayoutView",
            "align_content": null,
            "align_items": null,
            "align_self": null,
            "border": null,
            "bottom": null,
            "display": null,
            "flex": null,
            "flex_flow": null,
            "grid_area": null,
            "grid_auto_columns": null,
            "grid_auto_flow": null,
            "grid_auto_rows": null,
            "grid_column": null,
            "grid_gap": null,
            "grid_row": null,
            "grid_template_areas": null,
            "grid_template_columns": null,
            "grid_template_rows": null,
            "height": null,
            "justify_content": null,
            "justify_items": null,
            "left": null,
            "margin": null,
            "max_height": null,
            "max_width": null,
            "min_height": null,
            "min_width": null,
            "object_fit": null,
            "object_position": null,
            "order": null,
            "overflow": null,
            "overflow_x": null,
            "overflow_y": null,
            "padding": null,
            "right": null,
            "top": null,
            "visibility": null,
            "width": null
          }
        },
        "a12aceb7fbb04b4bac33d0925971c787": {
          "model_module": "@jupyter-widgets/controls",
          "model_name": "ProgressStyleModel",
          "model_module_version": "1.5.0",
          "state": {
            "_model_module": "@jupyter-widgets/controls",
            "_model_module_version": "1.5.0",
            "_model_name": "ProgressStyleModel",
            "_view_count": null,
            "_view_module": "@jupyter-widgets/base",
            "_view_module_version": "1.2.0",
            "_view_name": "StyleView",
            "bar_color": null,
            "description_width": ""
          }
        },
        "bf8351c4a38d4d7c8f69c992a8f50d87": {
          "model_module": "@jupyter-widgets/base",
          "model_name": "LayoutModel",
          "model_module_version": "1.2.0",
          "state": {
            "_model_module": "@jupyter-widgets/base",
            "_model_module_version": "1.2.0",
            "_model_name": "LayoutModel",
            "_view_count": null,
            "_view_module": "@jupyter-widgets/base",
            "_view_module_version": "1.2.0",
            "_view_name": "LayoutView",
            "align_content": null,
            "align_items": null,
            "align_self": null,
            "border": null,
            "bottom": null,
            "display": null,
            "flex": null,
            "flex_flow": null,
            "grid_area": null,
            "grid_auto_columns": null,
            "grid_auto_flow": null,
            "grid_auto_rows": null,
            "grid_column": null,
            "grid_gap": null,
            "grid_row": null,
            "grid_template_areas": null,
            "grid_template_columns": null,
            "grid_template_rows": null,
            "height": null,
            "justify_content": null,
            "justify_items": null,
            "left": null,
            "margin": null,
            "max_height": null,
            "max_width": null,
            "min_height": null,
            "min_width": null,
            "object_fit": null,
            "object_position": null,
            "order": null,
            "overflow": null,
            "overflow_x": null,
            "overflow_y": null,
            "padding": null,
            "right": null,
            "top": null,
            "visibility": null,
            "width": null
          }
        },
        "542246388d6d42a38753452d864d18ea": {
          "model_module": "@jupyter-widgets/controls",
          "model_name": "DescriptionStyleModel",
          "model_module_version": "1.5.0",
          "state": {
            "_model_module": "@jupyter-widgets/controls",
            "_model_module_version": "1.5.0",
            "_model_name": "DescriptionStyleModel",
            "_view_count": null,
            "_view_module": "@jupyter-widgets/base",
            "_view_module_version": "1.2.0",
            "_view_name": "StyleView",
            "description_width": ""
          }
        },
        "256815e7034945a3bb5be201cfcc41f5": {
          "model_module": "@jupyter-widgets/controls",
          "model_name": "HBoxModel",
          "model_module_version": "1.5.0",
          "state": {
            "_dom_classes": [],
            "_model_module": "@jupyter-widgets/controls",
            "_model_module_version": "1.5.0",
            "_model_name": "HBoxModel",
            "_view_count": null,
            "_view_module": "@jupyter-widgets/controls",
            "_view_module_version": "1.5.0",
            "_view_name": "HBoxView",
            "box_style": "",
            "children": [
              "IPY_MODEL_4012313688c34fae9789bc5fdfa94be9",
              "IPY_MODEL_1a7fe83c612048a1b477d66665c42689",
              "IPY_MODEL_9226bc427f7c4ae6a51b1eefc5a596a7"
            ],
            "layout": "IPY_MODEL_4e35407fc9434aac917ad26f8a1ece47"
          }
        },
        "4012313688c34fae9789bc5fdfa94be9": {
          "model_module": "@jupyter-widgets/controls",
          "model_name": "HTMLModel",
          "model_module_version": "1.5.0",
          "state": {
            "_dom_classes": [],
            "_model_module": "@jupyter-widgets/controls",
            "_model_module_version": "1.5.0",
            "_model_name": "HTMLModel",
            "_view_count": null,
            "_view_module": "@jupyter-widgets/controls",
            "_view_module_version": "1.5.0",
            "_view_name": "HTMLView",
            "description": "",
            "description_tooltip": null,
            "layout": "IPY_MODEL_04d25f9926584832b914ace9e30197c7",
            "placeholder": "​",
            "style": "IPY_MODEL_0eadd8c90d8f44298d3404815ae951a9",
            "value": "Downloading (…)okenizer_config.json: 100%"
          }
        },
        "1a7fe83c612048a1b477d66665c42689": {
          "model_module": "@jupyter-widgets/controls",
          "model_name": "FloatProgressModel",
          "model_module_version": "1.5.0",
          "state": {
            "_dom_classes": [],
            "_model_module": "@jupyter-widgets/controls",
            "_model_module_version": "1.5.0",
            "_model_name": "FloatProgressModel",
            "_view_count": null,
            "_view_module": "@jupyter-widgets/controls",
            "_view_module_version": "1.5.0",
            "_view_name": "ProgressView",
            "bar_style": "success",
            "description": "",
            "description_tooltip": null,
            "layout": "IPY_MODEL_58b29ba4542d4158977198cd88e7c3df",
            "max": 29,
            "min": 0,
            "orientation": "horizontal",
            "style": "IPY_MODEL_beb5a79449bd46e88ca7ffa7a32bf260",
            "value": 29
          }
        },
        "9226bc427f7c4ae6a51b1eefc5a596a7": {
          "model_module": "@jupyter-widgets/controls",
          "model_name": "HTMLModel",
          "model_module_version": "1.5.0",
          "state": {
            "_dom_classes": [],
            "_model_module": "@jupyter-widgets/controls",
            "_model_module_version": "1.5.0",
            "_model_name": "HTMLModel",
            "_view_count": null,
            "_view_module": "@jupyter-widgets/controls",
            "_view_module_version": "1.5.0",
            "_view_name": "HTMLView",
            "description": "",
            "description_tooltip": null,
            "layout": "IPY_MODEL_d55805d71b1545c1bb28aba374957d57",
            "placeholder": "​",
            "style": "IPY_MODEL_75df3c7b5e684a54a2c57fe8f222551d",
            "value": " 29.0/29.0 [00:00&lt;00:00, 990B/s]"
          }
        },
        "4e35407fc9434aac917ad26f8a1ece47": {
          "model_module": "@jupyter-widgets/base",
          "model_name": "LayoutModel",
          "model_module_version": "1.2.0",
          "state": {
            "_model_module": "@jupyter-widgets/base",
            "_model_module_version": "1.2.0",
            "_model_name": "LayoutModel",
            "_view_count": null,
            "_view_module": "@jupyter-widgets/base",
            "_view_module_version": "1.2.0",
            "_view_name": "LayoutView",
            "align_content": null,
            "align_items": null,
            "align_self": null,
            "border": null,
            "bottom": null,
            "display": null,
            "flex": null,
            "flex_flow": null,
            "grid_area": null,
            "grid_auto_columns": null,
            "grid_auto_flow": null,
            "grid_auto_rows": null,
            "grid_column": null,
            "grid_gap": null,
            "grid_row": null,
            "grid_template_areas": null,
            "grid_template_columns": null,
            "grid_template_rows": null,
            "height": null,
            "justify_content": null,
            "justify_items": null,
            "left": null,
            "margin": null,
            "max_height": null,
            "max_width": null,
            "min_height": null,
            "min_width": null,
            "object_fit": null,
            "object_position": null,
            "order": null,
            "overflow": null,
            "overflow_x": null,
            "overflow_y": null,
            "padding": null,
            "right": null,
            "top": null,
            "visibility": null,
            "width": null
          }
        },
        "04d25f9926584832b914ace9e30197c7": {
          "model_module": "@jupyter-widgets/base",
          "model_name": "LayoutModel",
          "model_module_version": "1.2.0",
          "state": {
            "_model_module": "@jupyter-widgets/base",
            "_model_module_version": "1.2.0",
            "_model_name": "LayoutModel",
            "_view_count": null,
            "_view_module": "@jupyter-widgets/base",
            "_view_module_version": "1.2.0",
            "_view_name": "LayoutView",
            "align_content": null,
            "align_items": null,
            "align_self": null,
            "border": null,
            "bottom": null,
            "display": null,
            "flex": null,
            "flex_flow": null,
            "grid_area": null,
            "grid_auto_columns": null,
            "grid_auto_flow": null,
            "grid_auto_rows": null,
            "grid_column": null,
            "grid_gap": null,
            "grid_row": null,
            "grid_template_areas": null,
            "grid_template_columns": null,
            "grid_template_rows": null,
            "height": null,
            "justify_content": null,
            "justify_items": null,
            "left": null,
            "margin": null,
            "max_height": null,
            "max_width": null,
            "min_height": null,
            "min_width": null,
            "object_fit": null,
            "object_position": null,
            "order": null,
            "overflow": null,
            "overflow_x": null,
            "overflow_y": null,
            "padding": null,
            "right": null,
            "top": null,
            "visibility": null,
            "width": null
          }
        },
        "0eadd8c90d8f44298d3404815ae951a9": {
          "model_module": "@jupyter-widgets/controls",
          "model_name": "DescriptionStyleModel",
          "model_module_version": "1.5.0",
          "state": {
            "_model_module": "@jupyter-widgets/controls",
            "_model_module_version": "1.5.0",
            "_model_name": "DescriptionStyleModel",
            "_view_count": null,
            "_view_module": "@jupyter-widgets/base",
            "_view_module_version": "1.2.0",
            "_view_name": "StyleView",
            "description_width": ""
          }
        },
        "58b29ba4542d4158977198cd88e7c3df": {
          "model_module": "@jupyter-widgets/base",
          "model_name": "LayoutModel",
          "model_module_version": "1.2.0",
          "state": {
            "_model_module": "@jupyter-widgets/base",
            "_model_module_version": "1.2.0",
            "_model_name": "LayoutModel",
            "_view_count": null,
            "_view_module": "@jupyter-widgets/base",
            "_view_module_version": "1.2.0",
            "_view_name": "LayoutView",
            "align_content": null,
            "align_items": null,
            "align_self": null,
            "border": null,
            "bottom": null,
            "display": null,
            "flex": null,
            "flex_flow": null,
            "grid_area": null,
            "grid_auto_columns": null,
            "grid_auto_flow": null,
            "grid_auto_rows": null,
            "grid_column": null,
            "grid_gap": null,
            "grid_row": null,
            "grid_template_areas": null,
            "grid_template_columns": null,
            "grid_template_rows": null,
            "height": null,
            "justify_content": null,
            "justify_items": null,
            "left": null,
            "margin": null,
            "max_height": null,
            "max_width": null,
            "min_height": null,
            "min_width": null,
            "object_fit": null,
            "object_position": null,
            "order": null,
            "overflow": null,
            "overflow_x": null,
            "overflow_y": null,
            "padding": null,
            "right": null,
            "top": null,
            "visibility": null,
            "width": null
          }
        },
        "beb5a79449bd46e88ca7ffa7a32bf260": {
          "model_module": "@jupyter-widgets/controls",
          "model_name": "ProgressStyleModel",
          "model_module_version": "1.5.0",
          "state": {
            "_model_module": "@jupyter-widgets/controls",
            "_model_module_version": "1.5.0",
            "_model_name": "ProgressStyleModel",
            "_view_count": null,
            "_view_module": "@jupyter-widgets/base",
            "_view_module_version": "1.2.0",
            "_view_name": "StyleView",
            "bar_color": null,
            "description_width": ""
          }
        },
        "d55805d71b1545c1bb28aba374957d57": {
          "model_module": "@jupyter-widgets/base",
          "model_name": "LayoutModel",
          "model_module_version": "1.2.0",
          "state": {
            "_model_module": "@jupyter-widgets/base",
            "_model_module_version": "1.2.0",
            "_model_name": "LayoutModel",
            "_view_count": null,
            "_view_module": "@jupyter-widgets/base",
            "_view_module_version": "1.2.0",
            "_view_name": "LayoutView",
            "align_content": null,
            "align_items": null,
            "align_self": null,
            "border": null,
            "bottom": null,
            "display": null,
            "flex": null,
            "flex_flow": null,
            "grid_area": null,
            "grid_auto_columns": null,
            "grid_auto_flow": null,
            "grid_auto_rows": null,
            "grid_column": null,
            "grid_gap": null,
            "grid_row": null,
            "grid_template_areas": null,
            "grid_template_columns": null,
            "grid_template_rows": null,
            "height": null,
            "justify_content": null,
            "justify_items": null,
            "left": null,
            "margin": null,
            "max_height": null,
            "max_width": null,
            "min_height": null,
            "min_width": null,
            "object_fit": null,
            "object_position": null,
            "order": null,
            "overflow": null,
            "overflow_x": null,
            "overflow_y": null,
            "padding": null,
            "right": null,
            "top": null,
            "visibility": null,
            "width": null
          }
        },
        "75df3c7b5e684a54a2c57fe8f222551d": {
          "model_module": "@jupyter-widgets/controls",
          "model_name": "DescriptionStyleModel",
          "model_module_version": "1.5.0",
          "state": {
            "_model_module": "@jupyter-widgets/controls",
            "_model_module_version": "1.5.0",
            "_model_name": "DescriptionStyleModel",
            "_view_count": null,
            "_view_module": "@jupyter-widgets/base",
            "_view_module_version": "1.2.0",
            "_view_name": "StyleView",
            "description_width": ""
          }
        },
        "3c1a30182591476e9e6e5e120c421da8": {
          "model_module": "@jupyter-widgets/controls",
          "model_name": "HBoxModel",
          "model_module_version": "1.5.0",
          "state": {
            "_dom_classes": [],
            "_model_module": "@jupyter-widgets/controls",
            "_model_module_version": "1.5.0",
            "_model_name": "HBoxModel",
            "_view_count": null,
            "_view_module": "@jupyter-widgets/controls",
            "_view_module_version": "1.5.0",
            "_view_name": "HBoxView",
            "box_style": "",
            "children": [
              "IPY_MODEL_960ec69ce262431d8912c2eede766d54",
              "IPY_MODEL_233ae859d40f48b5b9dc9e5f557432c5",
              "IPY_MODEL_37fce459256c43489adfd90522f458ec"
            ],
            "layout": "IPY_MODEL_d94cd8fe78534b438acce4f4793bf5f9"
          }
        },
        "960ec69ce262431d8912c2eede766d54": {
          "model_module": "@jupyter-widgets/controls",
          "model_name": "HTMLModel",
          "model_module_version": "1.5.0",
          "state": {
            "_dom_classes": [],
            "_model_module": "@jupyter-widgets/controls",
            "_model_module_version": "1.5.0",
            "_model_name": "HTMLModel",
            "_view_count": null,
            "_view_module": "@jupyter-widgets/controls",
            "_view_module_version": "1.5.0",
            "_view_name": "HTMLView",
            "description": "",
            "description_tooltip": null,
            "layout": "IPY_MODEL_7e40bfb856e741eca29ea0a8d0bf7dc6",
            "placeholder": "​",
            "style": "IPY_MODEL_1717fe2f7cff49f1a2c8972ca6cb7cc6",
            "value": "Downloading (…)lve/main/config.json: 100%"
          }
        },
        "233ae859d40f48b5b9dc9e5f557432c5": {
          "model_module": "@jupyter-widgets/controls",
          "model_name": "FloatProgressModel",
          "model_module_version": "1.5.0",
          "state": {
            "_dom_classes": [],
            "_model_module": "@jupyter-widgets/controls",
            "_model_module_version": "1.5.0",
            "_model_name": "FloatProgressModel",
            "_view_count": null,
            "_view_module": "@jupyter-widgets/controls",
            "_view_module_version": "1.5.0",
            "_view_name": "ProgressView",
            "bar_style": "success",
            "description": "",
            "description_tooltip": null,
            "layout": "IPY_MODEL_b4e8061d2f0148ac95dbc7a5b803631a",
            "max": 570,
            "min": 0,
            "orientation": "horizontal",
            "style": "IPY_MODEL_13e34c07e5b44da293a0b9027b20088e",
            "value": 570
          }
        },
        "37fce459256c43489adfd90522f458ec": {
          "model_module": "@jupyter-widgets/controls",
          "model_name": "HTMLModel",
          "model_module_version": "1.5.0",
          "state": {
            "_dom_classes": [],
            "_model_module": "@jupyter-widgets/controls",
            "_model_module_version": "1.5.0",
            "_model_name": "HTMLModel",
            "_view_count": null,
            "_view_module": "@jupyter-widgets/controls",
            "_view_module_version": "1.5.0",
            "_view_name": "HTMLView",
            "description": "",
            "description_tooltip": null,
            "layout": "IPY_MODEL_1243c02346274f8194f8e72408dd0ae4",
            "placeholder": "​",
            "style": "IPY_MODEL_05ededbdc29745708e84442718d8c313",
            "value": " 570/570 [00:00&lt;00:00, 30.1kB/s]"
          }
        },
        "d94cd8fe78534b438acce4f4793bf5f9": {
          "model_module": "@jupyter-widgets/base",
          "model_name": "LayoutModel",
          "model_module_version": "1.2.0",
          "state": {
            "_model_module": "@jupyter-widgets/base",
            "_model_module_version": "1.2.0",
            "_model_name": "LayoutModel",
            "_view_count": null,
            "_view_module": "@jupyter-widgets/base",
            "_view_module_version": "1.2.0",
            "_view_name": "LayoutView",
            "align_content": null,
            "align_items": null,
            "align_self": null,
            "border": null,
            "bottom": null,
            "display": null,
            "flex": null,
            "flex_flow": null,
            "grid_area": null,
            "grid_auto_columns": null,
            "grid_auto_flow": null,
            "grid_auto_rows": null,
            "grid_column": null,
            "grid_gap": null,
            "grid_row": null,
            "grid_template_areas": null,
            "grid_template_columns": null,
            "grid_template_rows": null,
            "height": null,
            "justify_content": null,
            "justify_items": null,
            "left": null,
            "margin": null,
            "max_height": null,
            "max_width": null,
            "min_height": null,
            "min_width": null,
            "object_fit": null,
            "object_position": null,
            "order": null,
            "overflow": null,
            "overflow_x": null,
            "overflow_y": null,
            "padding": null,
            "right": null,
            "top": null,
            "visibility": null,
            "width": null
          }
        },
        "7e40bfb856e741eca29ea0a8d0bf7dc6": {
          "model_module": "@jupyter-widgets/base",
          "model_name": "LayoutModel",
          "model_module_version": "1.2.0",
          "state": {
            "_model_module": "@jupyter-widgets/base",
            "_model_module_version": "1.2.0",
            "_model_name": "LayoutModel",
            "_view_count": null,
            "_view_module": "@jupyter-widgets/base",
            "_view_module_version": "1.2.0",
            "_view_name": "LayoutView",
            "align_content": null,
            "align_items": null,
            "align_self": null,
            "border": null,
            "bottom": null,
            "display": null,
            "flex": null,
            "flex_flow": null,
            "grid_area": null,
            "grid_auto_columns": null,
            "grid_auto_flow": null,
            "grid_auto_rows": null,
            "grid_column": null,
            "grid_gap": null,
            "grid_row": null,
            "grid_template_areas": null,
            "grid_template_columns": null,
            "grid_template_rows": null,
            "height": null,
            "justify_content": null,
            "justify_items": null,
            "left": null,
            "margin": null,
            "max_height": null,
            "max_width": null,
            "min_height": null,
            "min_width": null,
            "object_fit": null,
            "object_position": null,
            "order": null,
            "overflow": null,
            "overflow_x": null,
            "overflow_y": null,
            "padding": null,
            "right": null,
            "top": null,
            "visibility": null,
            "width": null
          }
        },
        "1717fe2f7cff49f1a2c8972ca6cb7cc6": {
          "model_module": "@jupyter-widgets/controls",
          "model_name": "DescriptionStyleModel",
          "model_module_version": "1.5.0",
          "state": {
            "_model_module": "@jupyter-widgets/controls",
            "_model_module_version": "1.5.0",
            "_model_name": "DescriptionStyleModel",
            "_view_count": null,
            "_view_module": "@jupyter-widgets/base",
            "_view_module_version": "1.2.0",
            "_view_name": "StyleView",
            "description_width": ""
          }
        },
        "b4e8061d2f0148ac95dbc7a5b803631a": {
          "model_module": "@jupyter-widgets/base",
          "model_name": "LayoutModel",
          "model_module_version": "1.2.0",
          "state": {
            "_model_module": "@jupyter-widgets/base",
            "_model_module_version": "1.2.0",
            "_model_name": "LayoutModel",
            "_view_count": null,
            "_view_module": "@jupyter-widgets/base",
            "_view_module_version": "1.2.0",
            "_view_name": "LayoutView",
            "align_content": null,
            "align_items": null,
            "align_self": null,
            "border": null,
            "bottom": null,
            "display": null,
            "flex": null,
            "flex_flow": null,
            "grid_area": null,
            "grid_auto_columns": null,
            "grid_auto_flow": null,
            "grid_auto_rows": null,
            "grid_column": null,
            "grid_gap": null,
            "grid_row": null,
            "grid_template_areas": null,
            "grid_template_columns": null,
            "grid_template_rows": null,
            "height": null,
            "justify_content": null,
            "justify_items": null,
            "left": null,
            "margin": null,
            "max_height": null,
            "max_width": null,
            "min_height": null,
            "min_width": null,
            "object_fit": null,
            "object_position": null,
            "order": null,
            "overflow": null,
            "overflow_x": null,
            "overflow_y": null,
            "padding": null,
            "right": null,
            "top": null,
            "visibility": null,
            "width": null
          }
        },
        "13e34c07e5b44da293a0b9027b20088e": {
          "model_module": "@jupyter-widgets/controls",
          "model_name": "ProgressStyleModel",
          "model_module_version": "1.5.0",
          "state": {
            "_model_module": "@jupyter-widgets/controls",
            "_model_module_version": "1.5.0",
            "_model_name": "ProgressStyleModel",
            "_view_count": null,
            "_view_module": "@jupyter-widgets/base",
            "_view_module_version": "1.2.0",
            "_view_name": "StyleView",
            "bar_color": null,
            "description_width": ""
          }
        },
        "1243c02346274f8194f8e72408dd0ae4": {
          "model_module": "@jupyter-widgets/base",
          "model_name": "LayoutModel",
          "model_module_version": "1.2.0",
          "state": {
            "_model_module": "@jupyter-widgets/base",
            "_model_module_version": "1.2.0",
            "_model_name": "LayoutModel",
            "_view_count": null,
            "_view_module": "@jupyter-widgets/base",
            "_view_module_version": "1.2.0",
            "_view_name": "LayoutView",
            "align_content": null,
            "align_items": null,
            "align_self": null,
            "border": null,
            "bottom": null,
            "display": null,
            "flex": null,
            "flex_flow": null,
            "grid_area": null,
            "grid_auto_columns": null,
            "grid_auto_flow": null,
            "grid_auto_rows": null,
            "grid_column": null,
            "grid_gap": null,
            "grid_row": null,
            "grid_template_areas": null,
            "grid_template_columns": null,
            "grid_template_rows": null,
            "height": null,
            "justify_content": null,
            "justify_items": null,
            "left": null,
            "margin": null,
            "max_height": null,
            "max_width": null,
            "min_height": null,
            "min_width": null,
            "object_fit": null,
            "object_position": null,
            "order": null,
            "overflow": null,
            "overflow_x": null,
            "overflow_y": null,
            "padding": null,
            "right": null,
            "top": null,
            "visibility": null,
            "width": null
          }
        },
        "05ededbdc29745708e84442718d8c313": {
          "model_module": "@jupyter-widgets/controls",
          "model_name": "DescriptionStyleModel",
          "model_module_version": "1.5.0",
          "state": {
            "_model_module": "@jupyter-widgets/controls",
            "_model_module_version": "1.5.0",
            "_model_name": "DescriptionStyleModel",
            "_view_count": null,
            "_view_module": "@jupyter-widgets/base",
            "_view_module_version": "1.2.0",
            "_view_name": "StyleView",
            "description_width": ""
          }
        },
        "903ac4a557fd49348434e976bd1d7100": {
          "model_module": "@jupyter-widgets/controls",
          "model_name": "HBoxModel",
          "model_module_version": "1.5.0",
          "state": {
            "_dom_classes": [],
            "_model_module": "@jupyter-widgets/controls",
            "_model_module_version": "1.5.0",
            "_model_name": "HBoxModel",
            "_view_count": null,
            "_view_module": "@jupyter-widgets/controls",
            "_view_module_version": "1.5.0",
            "_view_name": "HBoxView",
            "box_style": "",
            "children": [
              "IPY_MODEL_b31bf62283b84d659f54230dbaedc10f",
              "IPY_MODEL_acbe05c4182544b190b817313b3f1e0c",
              "IPY_MODEL_4e0e3ae7e33c403faf104b2c3f042e51"
            ],
            "layout": "IPY_MODEL_7262ba383d1e4886aa55646c576087ff"
          }
        },
        "b31bf62283b84d659f54230dbaedc10f": {
          "model_module": "@jupyter-widgets/controls",
          "model_name": "HTMLModel",
          "model_module_version": "1.5.0",
          "state": {
            "_dom_classes": [],
            "_model_module": "@jupyter-widgets/controls",
            "_model_module_version": "1.5.0",
            "_model_name": "HTMLModel",
            "_view_count": null,
            "_view_module": "@jupyter-widgets/controls",
            "_view_module_version": "1.5.0",
            "_view_name": "HTMLView",
            "description": "",
            "description_tooltip": null,
            "layout": "IPY_MODEL_7f3d389c97a043108d9ee4b2bef961ec",
            "placeholder": "​",
            "style": "IPY_MODEL_06cd298e4c354eb89ecec0ae20e05579",
            "value": "Downloading (…)solve/main/vocab.txt: 100%"
          }
        },
        "acbe05c4182544b190b817313b3f1e0c": {
          "model_module": "@jupyter-widgets/controls",
          "model_name": "FloatProgressModel",
          "model_module_version": "1.5.0",
          "state": {
            "_dom_classes": [],
            "_model_module": "@jupyter-widgets/controls",
            "_model_module_version": "1.5.0",
            "_model_name": "FloatProgressModel",
            "_view_count": null,
            "_view_module": "@jupyter-widgets/controls",
            "_view_module_version": "1.5.0",
            "_view_name": "ProgressView",
            "bar_style": "success",
            "description": "",
            "description_tooltip": null,
            "layout": "IPY_MODEL_2698859da86e49f5b6af09b358506316",
            "max": 213450,
            "min": 0,
            "orientation": "horizontal",
            "style": "IPY_MODEL_eea621a93d754c72b8a17bf394614e1e",
            "value": 213450
          }
        },
        "4e0e3ae7e33c403faf104b2c3f042e51": {
          "model_module": "@jupyter-widgets/controls",
          "model_name": "HTMLModel",
          "model_module_version": "1.5.0",
          "state": {
            "_dom_classes": [],
            "_model_module": "@jupyter-widgets/controls",
            "_model_module_version": "1.5.0",
            "_model_name": "HTMLModel",
            "_view_count": null,
            "_view_module": "@jupyter-widgets/controls",
            "_view_module_version": "1.5.0",
            "_view_name": "HTMLView",
            "description": "",
            "description_tooltip": null,
            "layout": "IPY_MODEL_2834d5bd2f8541d7bd41e40e7882c503",
            "placeholder": "​",
            "style": "IPY_MODEL_e2cd19b4f3354cd8952073168fd07b4a",
            "value": " 213k/213k [00:00&lt;00:00, 2.85MB/s]"
          }
        },
        "7262ba383d1e4886aa55646c576087ff": {
          "model_module": "@jupyter-widgets/base",
          "model_name": "LayoutModel",
          "model_module_version": "1.2.0",
          "state": {
            "_model_module": "@jupyter-widgets/base",
            "_model_module_version": "1.2.0",
            "_model_name": "LayoutModel",
            "_view_count": null,
            "_view_module": "@jupyter-widgets/base",
            "_view_module_version": "1.2.0",
            "_view_name": "LayoutView",
            "align_content": null,
            "align_items": null,
            "align_self": null,
            "border": null,
            "bottom": null,
            "display": null,
            "flex": null,
            "flex_flow": null,
            "grid_area": null,
            "grid_auto_columns": null,
            "grid_auto_flow": null,
            "grid_auto_rows": null,
            "grid_column": null,
            "grid_gap": null,
            "grid_row": null,
            "grid_template_areas": null,
            "grid_template_columns": null,
            "grid_template_rows": null,
            "height": null,
            "justify_content": null,
            "justify_items": null,
            "left": null,
            "margin": null,
            "max_height": null,
            "max_width": null,
            "min_height": null,
            "min_width": null,
            "object_fit": null,
            "object_position": null,
            "order": null,
            "overflow": null,
            "overflow_x": null,
            "overflow_y": null,
            "padding": null,
            "right": null,
            "top": null,
            "visibility": null,
            "width": null
          }
        },
        "7f3d389c97a043108d9ee4b2bef961ec": {
          "model_module": "@jupyter-widgets/base",
          "model_name": "LayoutModel",
          "model_module_version": "1.2.0",
          "state": {
            "_model_module": "@jupyter-widgets/base",
            "_model_module_version": "1.2.0",
            "_model_name": "LayoutModel",
            "_view_count": null,
            "_view_module": "@jupyter-widgets/base",
            "_view_module_version": "1.2.0",
            "_view_name": "LayoutView",
            "align_content": null,
            "align_items": null,
            "align_self": null,
            "border": null,
            "bottom": null,
            "display": null,
            "flex": null,
            "flex_flow": null,
            "grid_area": null,
            "grid_auto_columns": null,
            "grid_auto_flow": null,
            "grid_auto_rows": null,
            "grid_column": null,
            "grid_gap": null,
            "grid_row": null,
            "grid_template_areas": null,
            "grid_template_columns": null,
            "grid_template_rows": null,
            "height": null,
            "justify_content": null,
            "justify_items": null,
            "left": null,
            "margin": null,
            "max_height": null,
            "max_width": null,
            "min_height": null,
            "min_width": null,
            "object_fit": null,
            "object_position": null,
            "order": null,
            "overflow": null,
            "overflow_x": null,
            "overflow_y": null,
            "padding": null,
            "right": null,
            "top": null,
            "visibility": null,
            "width": null
          }
        },
        "06cd298e4c354eb89ecec0ae20e05579": {
          "model_module": "@jupyter-widgets/controls",
          "model_name": "DescriptionStyleModel",
          "model_module_version": "1.5.0",
          "state": {
            "_model_module": "@jupyter-widgets/controls",
            "_model_module_version": "1.5.0",
            "_model_name": "DescriptionStyleModel",
            "_view_count": null,
            "_view_module": "@jupyter-widgets/base",
            "_view_module_version": "1.2.0",
            "_view_name": "StyleView",
            "description_width": ""
          }
        },
        "2698859da86e49f5b6af09b358506316": {
          "model_module": "@jupyter-widgets/base",
          "model_name": "LayoutModel",
          "model_module_version": "1.2.0",
          "state": {
            "_model_module": "@jupyter-widgets/base",
            "_model_module_version": "1.2.0",
            "_model_name": "LayoutModel",
            "_view_count": null,
            "_view_module": "@jupyter-widgets/base",
            "_view_module_version": "1.2.0",
            "_view_name": "LayoutView",
            "align_content": null,
            "align_items": null,
            "align_self": null,
            "border": null,
            "bottom": null,
            "display": null,
            "flex": null,
            "flex_flow": null,
            "grid_area": null,
            "grid_auto_columns": null,
            "grid_auto_flow": null,
            "grid_auto_rows": null,
            "grid_column": null,
            "grid_gap": null,
            "grid_row": null,
            "grid_template_areas": null,
            "grid_template_columns": null,
            "grid_template_rows": null,
            "height": null,
            "justify_content": null,
            "justify_items": null,
            "left": null,
            "margin": null,
            "max_height": null,
            "max_width": null,
            "min_height": null,
            "min_width": null,
            "object_fit": null,
            "object_position": null,
            "order": null,
            "overflow": null,
            "overflow_x": null,
            "overflow_y": null,
            "padding": null,
            "right": null,
            "top": null,
            "visibility": null,
            "width": null
          }
        },
        "eea621a93d754c72b8a17bf394614e1e": {
          "model_module": "@jupyter-widgets/controls",
          "model_name": "ProgressStyleModel",
          "model_module_version": "1.5.0",
          "state": {
            "_model_module": "@jupyter-widgets/controls",
            "_model_module_version": "1.5.0",
            "_model_name": "ProgressStyleModel",
            "_view_count": null,
            "_view_module": "@jupyter-widgets/base",
            "_view_module_version": "1.2.0",
            "_view_name": "StyleView",
            "bar_color": null,
            "description_width": ""
          }
        },
        "2834d5bd2f8541d7bd41e40e7882c503": {
          "model_module": "@jupyter-widgets/base",
          "model_name": "LayoutModel",
          "model_module_version": "1.2.0",
          "state": {
            "_model_module": "@jupyter-widgets/base",
            "_model_module_version": "1.2.0",
            "_model_name": "LayoutModel",
            "_view_count": null,
            "_view_module": "@jupyter-widgets/base",
            "_view_module_version": "1.2.0",
            "_view_name": "LayoutView",
            "align_content": null,
            "align_items": null,
            "align_self": null,
            "border": null,
            "bottom": null,
            "display": null,
            "flex": null,
            "flex_flow": null,
            "grid_area": null,
            "grid_auto_columns": null,
            "grid_auto_flow": null,
            "grid_auto_rows": null,
            "grid_column": null,
            "grid_gap": null,
            "grid_row": null,
            "grid_template_areas": null,
            "grid_template_columns": null,
            "grid_template_rows": null,
            "height": null,
            "justify_content": null,
            "justify_items": null,
            "left": null,
            "margin": null,
            "max_height": null,
            "max_width": null,
            "min_height": null,
            "min_width": null,
            "object_fit": null,
            "object_position": null,
            "order": null,
            "overflow": null,
            "overflow_x": null,
            "overflow_y": null,
            "padding": null,
            "right": null,
            "top": null,
            "visibility": null,
            "width": null
          }
        },
        "e2cd19b4f3354cd8952073168fd07b4a": {
          "model_module": "@jupyter-widgets/controls",
          "model_name": "DescriptionStyleModel",
          "model_module_version": "1.5.0",
          "state": {
            "_model_module": "@jupyter-widgets/controls",
            "_model_module_version": "1.5.0",
            "_model_name": "DescriptionStyleModel",
            "_view_count": null,
            "_view_module": "@jupyter-widgets/base",
            "_view_module_version": "1.2.0",
            "_view_name": "StyleView",
            "description_width": ""
          }
        },
        "aeb2ad101c4d4ccc8b05182726db1430": {
          "model_module": "@jupyter-widgets/controls",
          "model_name": "HBoxModel",
          "model_module_version": "1.5.0",
          "state": {
            "_dom_classes": [],
            "_model_module": "@jupyter-widgets/controls",
            "_model_module_version": "1.5.0",
            "_model_name": "HBoxModel",
            "_view_count": null,
            "_view_module": "@jupyter-widgets/controls",
            "_view_module_version": "1.5.0",
            "_view_name": "HBoxView",
            "box_style": "",
            "children": [
              "IPY_MODEL_d6a3eb2793cd4440a1776f51a6d93fea",
              "IPY_MODEL_3e5b6b111b2d43619a14c4659a09588d",
              "IPY_MODEL_5b3d3371f8424fd9a48af3185ea99547"
            ],
            "layout": "IPY_MODEL_90df6a5f16814bc7a00480966f33887c"
          }
        },
        "d6a3eb2793cd4440a1776f51a6d93fea": {
          "model_module": "@jupyter-widgets/controls",
          "model_name": "HTMLModel",
          "model_module_version": "1.5.0",
          "state": {
            "_dom_classes": [],
            "_model_module": "@jupyter-widgets/controls",
            "_model_module_version": "1.5.0",
            "_model_name": "HTMLModel",
            "_view_count": null,
            "_view_module": "@jupyter-widgets/controls",
            "_view_module_version": "1.5.0",
            "_view_name": "HTMLView",
            "description": "",
            "description_tooltip": null,
            "layout": "IPY_MODEL_5539edf84711465ca3ebb0e8c0f16711",
            "placeholder": "​",
            "style": "IPY_MODEL_f692d6cfbf1345d78842aacf3200e823",
            "value": "Downloading (…)/main/tokenizer.json: 100%"
          }
        },
        "3e5b6b111b2d43619a14c4659a09588d": {
          "model_module": "@jupyter-widgets/controls",
          "model_name": "FloatProgressModel",
          "model_module_version": "1.5.0",
          "state": {
            "_dom_classes": [],
            "_model_module": "@jupyter-widgets/controls",
            "_model_module_version": "1.5.0",
            "_model_name": "FloatProgressModel",
            "_view_count": null,
            "_view_module": "@jupyter-widgets/controls",
            "_view_module_version": "1.5.0",
            "_view_name": "ProgressView",
            "bar_style": "success",
            "description": "",
            "description_tooltip": null,
            "layout": "IPY_MODEL_326a4c85021142e29ed58f319b49992e",
            "max": 435797,
            "min": 0,
            "orientation": "horizontal",
            "style": "IPY_MODEL_f0208f64d9c54a338154341669ca424c",
            "value": 435797
          }
        },
        "5b3d3371f8424fd9a48af3185ea99547": {
          "model_module": "@jupyter-widgets/controls",
          "model_name": "HTMLModel",
          "model_module_version": "1.5.0",
          "state": {
            "_dom_classes": [],
            "_model_module": "@jupyter-widgets/controls",
            "_model_module_version": "1.5.0",
            "_model_name": "HTMLModel",
            "_view_count": null,
            "_view_module": "@jupyter-widgets/controls",
            "_view_module_version": "1.5.0",
            "_view_name": "HTMLView",
            "description": "",
            "description_tooltip": null,
            "layout": "IPY_MODEL_e6f0283ece17499fb7eff4d8b60312db",
            "placeholder": "​",
            "style": "IPY_MODEL_75b2f723f596428d8bd7f621a116b173",
            "value": " 436k/436k [00:00&lt;00:00, 7.46MB/s]"
          }
        },
        "90df6a5f16814bc7a00480966f33887c": {
          "model_module": "@jupyter-widgets/base",
          "model_name": "LayoutModel",
          "model_module_version": "1.2.0",
          "state": {
            "_model_module": "@jupyter-widgets/base",
            "_model_module_version": "1.2.0",
            "_model_name": "LayoutModel",
            "_view_count": null,
            "_view_module": "@jupyter-widgets/base",
            "_view_module_version": "1.2.0",
            "_view_name": "LayoutView",
            "align_content": null,
            "align_items": null,
            "align_self": null,
            "border": null,
            "bottom": null,
            "display": null,
            "flex": null,
            "flex_flow": null,
            "grid_area": null,
            "grid_auto_columns": null,
            "grid_auto_flow": null,
            "grid_auto_rows": null,
            "grid_column": null,
            "grid_gap": null,
            "grid_row": null,
            "grid_template_areas": null,
            "grid_template_columns": null,
            "grid_template_rows": null,
            "height": null,
            "justify_content": null,
            "justify_items": null,
            "left": null,
            "margin": null,
            "max_height": null,
            "max_width": null,
            "min_height": null,
            "min_width": null,
            "object_fit": null,
            "object_position": null,
            "order": null,
            "overflow": null,
            "overflow_x": null,
            "overflow_y": null,
            "padding": null,
            "right": null,
            "top": null,
            "visibility": null,
            "width": null
          }
        },
        "5539edf84711465ca3ebb0e8c0f16711": {
          "model_module": "@jupyter-widgets/base",
          "model_name": "LayoutModel",
          "model_module_version": "1.2.0",
          "state": {
            "_model_module": "@jupyter-widgets/base",
            "_model_module_version": "1.2.0",
            "_model_name": "LayoutModel",
            "_view_count": null,
            "_view_module": "@jupyter-widgets/base",
            "_view_module_version": "1.2.0",
            "_view_name": "LayoutView",
            "align_content": null,
            "align_items": null,
            "align_self": null,
            "border": null,
            "bottom": null,
            "display": null,
            "flex": null,
            "flex_flow": null,
            "grid_area": null,
            "grid_auto_columns": null,
            "grid_auto_flow": null,
            "grid_auto_rows": null,
            "grid_column": null,
            "grid_gap": null,
            "grid_row": null,
            "grid_template_areas": null,
            "grid_template_columns": null,
            "grid_template_rows": null,
            "height": null,
            "justify_content": null,
            "justify_items": null,
            "left": null,
            "margin": null,
            "max_height": null,
            "max_width": null,
            "min_height": null,
            "min_width": null,
            "object_fit": null,
            "object_position": null,
            "order": null,
            "overflow": null,
            "overflow_x": null,
            "overflow_y": null,
            "padding": null,
            "right": null,
            "top": null,
            "visibility": null,
            "width": null
          }
        },
        "f692d6cfbf1345d78842aacf3200e823": {
          "model_module": "@jupyter-widgets/controls",
          "model_name": "DescriptionStyleModel",
          "model_module_version": "1.5.0",
          "state": {
            "_model_module": "@jupyter-widgets/controls",
            "_model_module_version": "1.5.0",
            "_model_name": "DescriptionStyleModel",
            "_view_count": null,
            "_view_module": "@jupyter-widgets/base",
            "_view_module_version": "1.2.0",
            "_view_name": "StyleView",
            "description_width": ""
          }
        },
        "326a4c85021142e29ed58f319b49992e": {
          "model_module": "@jupyter-widgets/base",
          "model_name": "LayoutModel",
          "model_module_version": "1.2.0",
          "state": {
            "_model_module": "@jupyter-widgets/base",
            "_model_module_version": "1.2.0",
            "_model_name": "LayoutModel",
            "_view_count": null,
            "_view_module": "@jupyter-widgets/base",
            "_view_module_version": "1.2.0",
            "_view_name": "LayoutView",
            "align_content": null,
            "align_items": null,
            "align_self": null,
            "border": null,
            "bottom": null,
            "display": null,
            "flex": null,
            "flex_flow": null,
            "grid_area": null,
            "grid_auto_columns": null,
            "grid_auto_flow": null,
            "grid_auto_rows": null,
            "grid_column": null,
            "grid_gap": null,
            "grid_row": null,
            "grid_template_areas": null,
            "grid_template_columns": null,
            "grid_template_rows": null,
            "height": null,
            "justify_content": null,
            "justify_items": null,
            "left": null,
            "margin": null,
            "max_height": null,
            "max_width": null,
            "min_height": null,
            "min_width": null,
            "object_fit": null,
            "object_position": null,
            "order": null,
            "overflow": null,
            "overflow_x": null,
            "overflow_y": null,
            "padding": null,
            "right": null,
            "top": null,
            "visibility": null,
            "width": null
          }
        },
        "f0208f64d9c54a338154341669ca424c": {
          "model_module": "@jupyter-widgets/controls",
          "model_name": "ProgressStyleModel",
          "model_module_version": "1.5.0",
          "state": {
            "_model_module": "@jupyter-widgets/controls",
            "_model_module_version": "1.5.0",
            "_model_name": "ProgressStyleModel",
            "_view_count": null,
            "_view_module": "@jupyter-widgets/base",
            "_view_module_version": "1.2.0",
            "_view_name": "StyleView",
            "bar_color": null,
            "description_width": ""
          }
        },
        "e6f0283ece17499fb7eff4d8b60312db": {
          "model_module": "@jupyter-widgets/base",
          "model_name": "LayoutModel",
          "model_module_version": "1.2.0",
          "state": {
            "_model_module": "@jupyter-widgets/base",
            "_model_module_version": "1.2.0",
            "_model_name": "LayoutModel",
            "_view_count": null,
            "_view_module": "@jupyter-widgets/base",
            "_view_module_version": "1.2.0",
            "_view_name": "LayoutView",
            "align_content": null,
            "align_items": null,
            "align_self": null,
            "border": null,
            "bottom": null,
            "display": null,
            "flex": null,
            "flex_flow": null,
            "grid_area": null,
            "grid_auto_columns": null,
            "grid_auto_flow": null,
            "grid_auto_rows": null,
            "grid_column": null,
            "grid_gap": null,
            "grid_row": null,
            "grid_template_areas": null,
            "grid_template_columns": null,
            "grid_template_rows": null,
            "height": null,
            "justify_content": null,
            "justify_items": null,
            "left": null,
            "margin": null,
            "max_height": null,
            "max_width": null,
            "min_height": null,
            "min_width": null,
            "object_fit": null,
            "object_position": null,
            "order": null,
            "overflow": null,
            "overflow_x": null,
            "overflow_y": null,
            "padding": null,
            "right": null,
            "top": null,
            "visibility": null,
            "width": null
          }
        },
        "75b2f723f596428d8bd7f621a116b173": {
          "model_module": "@jupyter-widgets/controls",
          "model_name": "DescriptionStyleModel",
          "model_module_version": "1.5.0",
          "state": {
            "_model_module": "@jupyter-widgets/controls",
            "_model_module_version": "1.5.0",
            "_model_name": "DescriptionStyleModel",
            "_view_count": null,
            "_view_module": "@jupyter-widgets/base",
            "_view_module_version": "1.2.0",
            "_view_name": "StyleView",
            "description_width": ""
          }
        }
      }
    }
  },
  "cells": [
    {
      "cell_type": "code",
      "execution_count": null,
      "metadata": {
        "colab": {
          "base_uri": "https://localhost:8080/"
        },
        "id": "fy_BBaRtSrBQ",
        "outputId": "24344631-5102-4465-c24d-3c43e7b695b0"
      },
      "outputs": [
        {
          "output_type": "stream",
          "name": "stdout",
          "text": [
            "Mounted at /content/gdrive\n"
          ]
        }
      ],
      "source": [
        "from google.colab import drive\n",
        "drive.mount('/content/gdrive')\n",
        "\n",
        "  "
      ]
    },
    {
      "cell_type": "code",
      "source": [
        "pip install transformers\n"
      ],
      "metadata": {
        "colab": {
          "base_uri": "https://localhost:8080/"
        },
        "id": "SbHM8pyBuOug",
        "outputId": "70c6a9c2-2be5-424b-e326-a3f29a36165d"
      },
      "execution_count": null,
      "outputs": [
        {
          "output_type": "stream",
          "name": "stdout",
          "text": [
            "Looking in indexes: https://pypi.org/simple, https://us-python.pkg.dev/colab-wheels/public/simple/\n",
            "Collecting transformers\n",
            "  Downloading transformers-4.28.1-py3-none-any.whl (7.0 MB)\n",
            "\u001b[2K     \u001b[90m━━━━━━━━━━━━━━━━━━━━━━━━━━━━━━━━━━━━━━━━\u001b[0m \u001b[32m7.0/7.0 MB\u001b[0m \u001b[31m45.2 MB/s\u001b[0m eta \u001b[36m0:00:00\u001b[0m\n",
            "\u001b[?25hRequirement already satisfied: filelock in /usr/local/lib/python3.9/dist-packages (from transformers) (3.11.0)\n",
            "Requirement already satisfied: tqdm>=4.27 in /usr/local/lib/python3.9/dist-packages (from transformers) (4.65.0)\n",
            "Requirement already satisfied: pyyaml>=5.1 in /usr/local/lib/python3.9/dist-packages (from transformers) (6.0)\n",
            "Requirement already satisfied: regex!=2019.12.17 in /usr/local/lib/python3.9/dist-packages (from transformers) (2022.10.31)\n",
            "Collecting tokenizers!=0.11.3,<0.14,>=0.11.1\n",
            "  Downloading tokenizers-0.13.3-cp39-cp39-manylinux_2_17_x86_64.manylinux2014_x86_64.whl (7.8 MB)\n",
            "\u001b[2K     \u001b[90m━━━━━━━━━━━━━━━━━━━━━━━━━━━━━━━━━━━━━━━━\u001b[0m \u001b[32m7.8/7.8 MB\u001b[0m \u001b[31m83.0 MB/s\u001b[0m eta \u001b[36m0:00:00\u001b[0m\n",
            "\u001b[?25hRequirement already satisfied: numpy>=1.17 in /usr/local/lib/python3.9/dist-packages (from transformers) (1.22.4)\n",
            "Requirement already satisfied: packaging>=20.0 in /usr/local/lib/python3.9/dist-packages (from transformers) (23.0)\n",
            "Collecting huggingface-hub<1.0,>=0.11.0\n",
            "  Downloading huggingface_hub-0.13.4-py3-none-any.whl (200 kB)\n",
            "\u001b[2K     \u001b[90m━━━━━━━━━━━━━━━━━━━━━━━━━━━━━━━━━━━━━━\u001b[0m \u001b[32m200.1/200.1 kB\u001b[0m \u001b[31m21.8 MB/s\u001b[0m eta \u001b[36m0:00:00\u001b[0m\n",
            "\u001b[?25hRequirement already satisfied: requests in /usr/local/lib/python3.9/dist-packages (from transformers) (2.27.1)\n",
            "Requirement already satisfied: typing-extensions>=3.7.4.3 in /usr/local/lib/python3.9/dist-packages (from huggingface-hub<1.0,>=0.11.0->transformers) (4.5.0)\n",
            "Requirement already satisfied: charset-normalizer~=2.0.0 in /usr/local/lib/python3.9/dist-packages (from requests->transformers) (2.0.12)\n",
            "Requirement already satisfied: certifi>=2017.4.17 in /usr/local/lib/python3.9/dist-packages (from requests->transformers) (2022.12.7)\n",
            "Requirement already satisfied: idna<4,>=2.5 in /usr/local/lib/python3.9/dist-packages (from requests->transformers) (3.4)\n",
            "Requirement already satisfied: urllib3<1.27,>=1.21.1 in /usr/local/lib/python3.9/dist-packages (from requests->transformers) (1.26.15)\n",
            "Installing collected packages: tokenizers, huggingface-hub, transformers\n",
            "Successfully installed huggingface-hub-0.13.4 tokenizers-0.13.3 transformers-4.28.1\n"
          ]
        }
      ]
    },
    {
      "cell_type": "code",
      "source": [
        "import tensorflow as tf\n",
        "import numpy as np\n",
        "import pandas as pd\n",
        "import seaborn as sns\n",
        "import matplotlib.pyplot as plt\n",
        "from tqdm import tqdm\n",
        "import datetime as dt\n",
        "import matplotlib.pyplot as plt\n",
        "from wordcloud import WordCloud\n",
        "import seaborn as sns\n",
        "from sklearn.feature_extraction.text import CountVectorizer\n",
        "from sklearn.model_selection import train_test_split\n",
        "from sklearn.linear_model import LogisticRegression\n",
        "from sklearn.naive_bayes import MultinomialNB\n",
        "from sklearn.metrics import roc_curve, auc\n",
        "from sklearn.neural_network import MLPClassifier\n",
        "from sklearn.svm import SVC\n",
        "from sklearn.metrics import confusion_matrix\n",
        "import sklearn.metrics as mt\n",
        "from plotly import tools\n",
        "import plotly.offline as py\n",
        "py.init_notebook_mode(connected=True)\n",
        "import plotly.graph_objs as go\n",
        "%matplotlib inline\n",
        "import warnings\n",
        "warnings.filterwarnings('ignore')"
      ],
      "metadata": {
        "id": "IEAid7pIwl52",
        "colab": {
          "base_uri": "https://localhost:8080/",
          "height": 17
        },
        "outputId": "ae4494eb-8ee1-48c4-f518-058a2fdfad46"
      },
      "execution_count": null,
      "outputs": [
        {
          "output_type": "display_data",
          "data": {
            "text/html": [
              "        <script type=\"text/javascript\">\n",
              "        window.PlotlyConfig = {MathJaxConfig: 'local'};\n",
              "        if (window.MathJax && window.MathJax.Hub && window.MathJax.Hub.Config) {window.MathJax.Hub.Config({SVG: {font: \"STIX-Web\"}});}\n",
              "        if (typeof require !== 'undefined') {\n",
              "        require.undef(\"plotly\");\n",
              "        requirejs.config({\n",
              "            paths: {\n",
              "                'plotly': ['https://cdn.plot.ly/plotly-2.18.2.min']\n",
              "            }\n",
              "        });\n",
              "        require(['plotly'], function(Plotly) {\n",
              "            window._Plotly = Plotly;\n",
              "        });\n",
              "        }\n",
              "        </script>\n",
              "        "
            ]
          },
          "metadata": {}
        }
      ]
    },
    {
      "cell_type": "code",
      "source": [
        "import tensorflow as tf\n",
        "tf.test.gpu_device_name()"
      ],
      "metadata": {
        "colab": {
          "base_uri": "https://localhost:8080/",
          "height": 36
        },
        "id": "gMQyYOmnS6Yc",
        "outputId": "755fbead-f61b-45e7-c3a0-11d5a24f5793"
      },
      "execution_count": null,
      "outputs": [
        {
          "output_type": "execute_result",
          "data": {
            "text/plain": [
              "'/device:GPU:0'"
            ],
            "application/vnd.google.colaboratory.intrinsic+json": {
              "type": "string"
            }
          },
          "metadata": {},
          "execution_count": 11
        }
      ]
    },
    {
      "cell_type": "code",
      "source": [
        "path = \"/content/gdrive/My Drive/ctsd/train.tsv\"\n",
        "df = pd.read_csv(path, sep = '\\t')\n",
        "df.head(5)"
      ],
      "metadata": {
        "colab": {
          "base_uri": "https://localhost:8080/",
          "height": 206
        },
        "id": "W3yDztivTbTX",
        "outputId": "dbb5be84-a1c8-4e54-f94a-c8ab5410dee7"
      },
      "execution_count": null,
      "outputs": [
        {
          "output_type": "execute_result",
          "data": {
            "text/plain": [
              "   PhraseId  SentenceId                                             Phrase  \\\n",
              "0         1           1  A series of escapades demonstrating the adage ...   \n",
              "1         2           1  A series of escapades demonstrating the adage ...   \n",
              "2         3           1                                           A series   \n",
              "3         4           1                                                  A   \n",
              "4         5           1                                             series   \n",
              "\n",
              "   Sentiment  \n",
              "0          1  \n",
              "1          2  \n",
              "2          2  \n",
              "3          2  \n",
              "4          2  "
            ],
            "text/html": [
              "\n",
              "  <div id=\"df-c900691b-598b-419b-8806-dee6ff4f79c5\">\n",
              "    <div class=\"colab-df-container\">\n",
              "      <div>\n",
              "<style scoped>\n",
              "    .dataframe tbody tr th:only-of-type {\n",
              "        vertical-align: middle;\n",
              "    }\n",
              "\n",
              "    .dataframe tbody tr th {\n",
              "        vertical-align: top;\n",
              "    }\n",
              "\n",
              "    .dataframe thead th {\n",
              "        text-align: right;\n",
              "    }\n",
              "</style>\n",
              "<table border=\"1\" class=\"dataframe\">\n",
              "  <thead>\n",
              "    <tr style=\"text-align: right;\">\n",
              "      <th></th>\n",
              "      <th>PhraseId</th>\n",
              "      <th>SentenceId</th>\n",
              "      <th>Phrase</th>\n",
              "      <th>Sentiment</th>\n",
              "    </tr>\n",
              "  </thead>\n",
              "  <tbody>\n",
              "    <tr>\n",
              "      <th>0</th>\n",
              "      <td>1</td>\n",
              "      <td>1</td>\n",
              "      <td>A series of escapades demonstrating the adage ...</td>\n",
              "      <td>1</td>\n",
              "    </tr>\n",
              "    <tr>\n",
              "      <th>1</th>\n",
              "      <td>2</td>\n",
              "      <td>1</td>\n",
              "      <td>A series of escapades demonstrating the adage ...</td>\n",
              "      <td>2</td>\n",
              "    </tr>\n",
              "    <tr>\n",
              "      <th>2</th>\n",
              "      <td>3</td>\n",
              "      <td>1</td>\n",
              "      <td>A series</td>\n",
              "      <td>2</td>\n",
              "    </tr>\n",
              "    <tr>\n",
              "      <th>3</th>\n",
              "      <td>4</td>\n",
              "      <td>1</td>\n",
              "      <td>A</td>\n",
              "      <td>2</td>\n",
              "    </tr>\n",
              "    <tr>\n",
              "      <th>4</th>\n",
              "      <td>5</td>\n",
              "      <td>1</td>\n",
              "      <td>series</td>\n",
              "      <td>2</td>\n",
              "    </tr>\n",
              "  </tbody>\n",
              "</table>\n",
              "</div>\n",
              "      <button class=\"colab-df-convert\" onclick=\"convertToInteractive('df-c900691b-598b-419b-8806-dee6ff4f79c5')\"\n",
              "              title=\"Convert this dataframe to an interactive table.\"\n",
              "              style=\"display:none;\">\n",
              "        \n",
              "  <svg xmlns=\"http://www.w3.org/2000/svg\" height=\"24px\"viewBox=\"0 0 24 24\"\n",
              "       width=\"24px\">\n",
              "    <path d=\"M0 0h24v24H0V0z\" fill=\"none\"/>\n",
              "    <path d=\"M18.56 5.44l.94 2.06.94-2.06 2.06-.94-2.06-.94-.94-2.06-.94 2.06-2.06.94zm-11 1L8.5 8.5l.94-2.06 2.06-.94-2.06-.94L8.5 2.5l-.94 2.06-2.06.94zm10 10l.94 2.06.94-2.06 2.06-.94-2.06-.94-.94-2.06-.94 2.06-2.06.94z\"/><path d=\"M17.41 7.96l-1.37-1.37c-.4-.4-.92-.59-1.43-.59-.52 0-1.04.2-1.43.59L10.3 9.45l-7.72 7.72c-.78.78-.78 2.05 0 2.83L4 21.41c.39.39.9.59 1.41.59.51 0 1.02-.2 1.41-.59l7.78-7.78 2.81-2.81c.8-.78.8-2.07 0-2.86zM5.41 20L4 18.59l7.72-7.72 1.47 1.35L5.41 20z\"/>\n",
              "  </svg>\n",
              "      </button>\n",
              "      \n",
              "  <style>\n",
              "    .colab-df-container {\n",
              "      display:flex;\n",
              "      flex-wrap:wrap;\n",
              "      gap: 12px;\n",
              "    }\n",
              "\n",
              "    .colab-df-convert {\n",
              "      background-color: #E8F0FE;\n",
              "      border: none;\n",
              "      border-radius: 50%;\n",
              "      cursor: pointer;\n",
              "      display: none;\n",
              "      fill: #1967D2;\n",
              "      height: 32px;\n",
              "      padding: 0 0 0 0;\n",
              "      width: 32px;\n",
              "    }\n",
              "\n",
              "    .colab-df-convert:hover {\n",
              "      background-color: #E2EBFA;\n",
              "      box-shadow: 0px 1px 2px rgba(60, 64, 67, 0.3), 0px 1px 3px 1px rgba(60, 64, 67, 0.15);\n",
              "      fill: #174EA6;\n",
              "    }\n",
              "\n",
              "    [theme=dark] .colab-df-convert {\n",
              "      background-color: #3B4455;\n",
              "      fill: #D2E3FC;\n",
              "    }\n",
              "\n",
              "    [theme=dark] .colab-df-convert:hover {\n",
              "      background-color: #434B5C;\n",
              "      box-shadow: 0px 1px 3px 1px rgba(0, 0, 0, 0.15);\n",
              "      filter: drop-shadow(0px 1px 2px rgba(0, 0, 0, 0.3));\n",
              "      fill: #FFFFFF;\n",
              "    }\n",
              "  </style>\n",
              "\n",
              "      <script>\n",
              "        const buttonEl =\n",
              "          document.querySelector('#df-c900691b-598b-419b-8806-dee6ff4f79c5 button.colab-df-convert');\n",
              "        buttonEl.style.display =\n",
              "          google.colab.kernel.accessAllowed ? 'block' : 'none';\n",
              "\n",
              "        async function convertToInteractive(key) {\n",
              "          const element = document.querySelector('#df-c900691b-598b-419b-8806-dee6ff4f79c5');\n",
              "          const dataTable =\n",
              "            await google.colab.kernel.invokeFunction('convertToInteractive',\n",
              "                                                     [key], {});\n",
              "          if (!dataTable) return;\n",
              "\n",
              "          const docLinkHtml = 'Like what you see? Visit the ' +\n",
              "            '<a target=\"_blank\" href=https://colab.research.google.com/notebooks/data_table.ipynb>data table notebook</a>'\n",
              "            + ' to learn more about interactive tables.';\n",
              "          element.innerHTML = '';\n",
              "          dataTable['output_type'] = 'display_data';\n",
              "          await google.colab.output.renderOutput(dataTable, element);\n",
              "          const docLink = document.createElement('div');\n",
              "          docLink.innerHTML = docLinkHtml;\n",
              "          element.appendChild(docLink);\n",
              "        }\n",
              "      </script>\n",
              "    </div>\n",
              "  </div>\n",
              "  "
            ]
          },
          "metadata": {},
          "execution_count": 12
        }
      ]
    },
    {
      "cell_type": "code",
      "source": [
        "df.drop_duplicates(subset=\"SentenceId\", keep=\"first\", inplace=True)\n",
        "df.head()"
      ],
      "metadata": {
        "colab": {
          "base_uri": "https://localhost:8080/",
          "height": 206
        },
        "id": "9W3OQT_YWu82",
        "outputId": "f6e35148-8a7d-4c75-dce0-7f83cc786e94"
      },
      "execution_count": null,
      "outputs": [
        {
          "output_type": "execute_result",
          "data": {
            "text/plain": [
              "     PhraseId  SentenceId                                             Phrase  \\\n",
              "0           1           1  A series of escapades demonstrating the adage ...   \n",
              "63         64           2  This quiet , introspective and entertaining in...   \n",
              "81         82           3  Even fans of Ismail Merchant 's work , I suspe...   \n",
              "116       117           4  A positively thrilling combination of ethnogra...   \n",
              "156       157           5  Aggressive self-glorification and a manipulati...   \n",
              "\n",
              "     Sentiment  \n",
              "0            1  \n",
              "63           4  \n",
              "81           1  \n",
              "116          3  \n",
              "156          1  "
            ],
            "text/html": [
              "\n",
              "  <div id=\"df-1ae8773a-c32f-45b1-82ac-13ca3c557771\">\n",
              "    <div class=\"colab-df-container\">\n",
              "      <div>\n",
              "<style scoped>\n",
              "    .dataframe tbody tr th:only-of-type {\n",
              "        vertical-align: middle;\n",
              "    }\n",
              "\n",
              "    .dataframe tbody tr th {\n",
              "        vertical-align: top;\n",
              "    }\n",
              "\n",
              "    .dataframe thead th {\n",
              "        text-align: right;\n",
              "    }\n",
              "</style>\n",
              "<table border=\"1\" class=\"dataframe\">\n",
              "  <thead>\n",
              "    <tr style=\"text-align: right;\">\n",
              "      <th></th>\n",
              "      <th>PhraseId</th>\n",
              "      <th>SentenceId</th>\n",
              "      <th>Phrase</th>\n",
              "      <th>Sentiment</th>\n",
              "    </tr>\n",
              "  </thead>\n",
              "  <tbody>\n",
              "    <tr>\n",
              "      <th>0</th>\n",
              "      <td>1</td>\n",
              "      <td>1</td>\n",
              "      <td>A series of escapades demonstrating the adage ...</td>\n",
              "      <td>1</td>\n",
              "    </tr>\n",
              "    <tr>\n",
              "      <th>63</th>\n",
              "      <td>64</td>\n",
              "      <td>2</td>\n",
              "      <td>This quiet , introspective and entertaining in...</td>\n",
              "      <td>4</td>\n",
              "    </tr>\n",
              "    <tr>\n",
              "      <th>81</th>\n",
              "      <td>82</td>\n",
              "      <td>3</td>\n",
              "      <td>Even fans of Ismail Merchant 's work , I suspe...</td>\n",
              "      <td>1</td>\n",
              "    </tr>\n",
              "    <tr>\n",
              "      <th>116</th>\n",
              "      <td>117</td>\n",
              "      <td>4</td>\n",
              "      <td>A positively thrilling combination of ethnogra...</td>\n",
              "      <td>3</td>\n",
              "    </tr>\n",
              "    <tr>\n",
              "      <th>156</th>\n",
              "      <td>157</td>\n",
              "      <td>5</td>\n",
              "      <td>Aggressive self-glorification and a manipulati...</td>\n",
              "      <td>1</td>\n",
              "    </tr>\n",
              "  </tbody>\n",
              "</table>\n",
              "</div>\n",
              "      <button class=\"colab-df-convert\" onclick=\"convertToInteractive('df-1ae8773a-c32f-45b1-82ac-13ca3c557771')\"\n",
              "              title=\"Convert this dataframe to an interactive table.\"\n",
              "              style=\"display:none;\">\n",
              "        \n",
              "  <svg xmlns=\"http://www.w3.org/2000/svg\" height=\"24px\"viewBox=\"0 0 24 24\"\n",
              "       width=\"24px\">\n",
              "    <path d=\"M0 0h24v24H0V0z\" fill=\"none\"/>\n",
              "    <path d=\"M18.56 5.44l.94 2.06.94-2.06 2.06-.94-2.06-.94-.94-2.06-.94 2.06-2.06.94zm-11 1L8.5 8.5l.94-2.06 2.06-.94-2.06-.94L8.5 2.5l-.94 2.06-2.06.94zm10 10l.94 2.06.94-2.06 2.06-.94-2.06-.94-.94-2.06-.94 2.06-2.06.94z\"/><path d=\"M17.41 7.96l-1.37-1.37c-.4-.4-.92-.59-1.43-.59-.52 0-1.04.2-1.43.59L10.3 9.45l-7.72 7.72c-.78.78-.78 2.05 0 2.83L4 21.41c.39.39.9.59 1.41.59.51 0 1.02-.2 1.41-.59l7.78-7.78 2.81-2.81c.8-.78.8-2.07 0-2.86zM5.41 20L4 18.59l7.72-7.72 1.47 1.35L5.41 20z\"/>\n",
              "  </svg>\n",
              "      </button>\n",
              "      \n",
              "  <style>\n",
              "    .colab-df-container {\n",
              "      display:flex;\n",
              "      flex-wrap:wrap;\n",
              "      gap: 12px;\n",
              "    }\n",
              "\n",
              "    .colab-df-convert {\n",
              "      background-color: #E8F0FE;\n",
              "      border: none;\n",
              "      border-radius: 50%;\n",
              "      cursor: pointer;\n",
              "      display: none;\n",
              "      fill: #1967D2;\n",
              "      height: 32px;\n",
              "      padding: 0 0 0 0;\n",
              "      width: 32px;\n",
              "    }\n",
              "\n",
              "    .colab-df-convert:hover {\n",
              "      background-color: #E2EBFA;\n",
              "      box-shadow: 0px 1px 2px rgba(60, 64, 67, 0.3), 0px 1px 3px 1px rgba(60, 64, 67, 0.15);\n",
              "      fill: #174EA6;\n",
              "    }\n",
              "\n",
              "    [theme=dark] .colab-df-convert {\n",
              "      background-color: #3B4455;\n",
              "      fill: #D2E3FC;\n",
              "    }\n",
              "\n",
              "    [theme=dark] .colab-df-convert:hover {\n",
              "      background-color: #434B5C;\n",
              "      box-shadow: 0px 1px 3px 1px rgba(0, 0, 0, 0.15);\n",
              "      filter: drop-shadow(0px 1px 2px rgba(0, 0, 0, 0.3));\n",
              "      fill: #FFFFFF;\n",
              "    }\n",
              "  </style>\n",
              "\n",
              "      <script>\n",
              "        const buttonEl =\n",
              "          document.querySelector('#df-1ae8773a-c32f-45b1-82ac-13ca3c557771 button.colab-df-convert');\n",
              "        buttonEl.style.display =\n",
              "          google.colab.kernel.accessAllowed ? 'block' : 'none';\n",
              "\n",
              "        async function convertToInteractive(key) {\n",
              "          const element = document.querySelector('#df-1ae8773a-c32f-45b1-82ac-13ca3c557771');\n",
              "          const dataTable =\n",
              "            await google.colab.kernel.invokeFunction('convertToInteractive',\n",
              "                                                     [key], {});\n",
              "          if (!dataTable) return;\n",
              "\n",
              "          const docLinkHtml = 'Like what you see? Visit the ' +\n",
              "            '<a target=\"_blank\" href=https://colab.research.google.com/notebooks/data_table.ipynb>data table notebook</a>'\n",
              "            + ' to learn more about interactive tables.';\n",
              "          element.innerHTML = '';\n",
              "          dataTable['output_type'] = 'display_data';\n",
              "          await google.colab.output.renderOutput(dataTable, element);\n",
              "          const docLink = document.createElement('div');\n",
              "          docLink.innerHTML = docLinkHtml;\n",
              "          element.appendChild(docLink);\n",
              "        }\n",
              "      </script>\n",
              "    </div>\n",
              "  </div>\n",
              "  "
            ]
          },
          "metadata": {},
          "execution_count": 13
        }
      ]
    },
    {
      "cell_type": "code",
      "source": [
        "df.shape\n"
      ],
      "metadata": {
        "colab": {
          "base_uri": "https://localhost:8080/"
        },
        "id": "kKIhVKsJwkeW",
        "outputId": "ff07a68c-2f4e-4302-c1a2-739a1a7f43c5"
      },
      "execution_count": null,
      "outputs": [
        {
          "output_type": "execute_result",
          "data": {
            "text/plain": [
              "(8529, 4)"
            ]
          },
          "metadata": {},
          "execution_count": 6
        }
      ]
    },
    {
      "cell_type": "code",
      "source": [
        "seqlen = df[\"Phrase\"].apply(lambda x: len(x.split()))\n",
        "print(seqlen.shape)"
      ],
      "metadata": {
        "colab": {
          "base_uri": "https://localhost:8080/"
        },
        "id": "f5tESm4PVhDA",
        "outputId": "a159ee67-7706-4bf8-a748-8570087dfadb"
      },
      "execution_count": null,
      "outputs": [
        {
          "output_type": "stream",
          "name": "stdout",
          "text": [
            "(8529,)\n"
          ]
        }
      ]
    },
    {
      "cell_type": "code",
      "source": [
        "\n",
        "sns.displot(seqlen)\n",
        "\n",
        "sns.set_style(\"darkgrid\")\n",
        "plt.figure(figsize=(30, 15))\n",
        "plt.show()"
      ],
      "metadata": {
        "colab": {
          "base_uri": "https://localhost:8080/",
          "height": 524
        },
        "id": "_l8OqW8RT4q5",
        "outputId": "b012a3de-1ff7-4bbe-927c-638ff73b7198"
      },
      "execution_count": null,
      "outputs": [
        {
          "output_type": "display_data",
          "data": {
            "text/plain": [
              "<Figure size 500x500 with 1 Axes>"
            ],
            "image/png": "[encoded data removed]"
          },
          "metadata": {}
        },
        {
          "output_type": "display_data",
          "data": {
            "text/plain": [
              "<Figure size 3000x1500 with 0 Axes>"
            ]
          },
          "metadata": {}
        }
      ]
    },
    {
      "cell_type": "code",
      "source": [
        "SEQ_LEN = 50\n",
        "df['Rating'] = df['Sentiment'] >=3\n",
        "df.head()\n",
        "vectorizer = CountVectorizer()\n",
        "train_data,test_data = train_test_split(df,train_size=0.8,random_state=0)\n",
        "# select the columns and \n",
        "# prepare data for the models \n",
        "X_train = vectorizer.fit_transform(train_data['Phrase'])\n",
        "y_train = train_data['Rating']\n",
        "X_test = vectorizer.transform(test_data['Phrase'])\n",
        "y_test = test_data['Rating']\n"
      ],
      "metadata": {
        "id": "k_lkgF9nVfit"
      },
      "execution_count": null,
      "outputs": []
    },
    {
      "cell_type": "code",
      "source": [
        "start=dt.datetime.now()\n",
        "lr = LogisticRegression()\n",
        "lr.fit(X_train,y_train)\n",
        "print('Elapsed time: ',str(dt.datetime.now()-start))"
      ],
      "metadata": {
        "colab": {
          "base_uri": "https://localhost:8080/"
        },
        "id": "316dXpi_xJsw",
        "outputId": "e6189704-01e4-4916-e2a7-cb35f3cb011f"
      },
      "execution_count": null,
      "outputs": [
        {
          "output_type": "stream",
          "name": "stdout",
          "text": [
            "Elapsed time:  0:00:00.517337\n"
          ]
        }
      ]
    },
    {
      "cell_type": "code",
      "source": [
        "print(\"Logistic Regression\")\n",
        "print(mt.classification_report(y_test, lr.predict(X_test)))"
      ],
      "metadata": {
        "colab": {
          "base_uri": "https://localhost:8080/"
        },
        "id": "-_RJL6G2zqn2",
        "outputId": "45e54ad6-5bbb-47fe-8c17-402cda8f364c"
      },
      "execution_count": null,
      "outputs": [
        {
          "output_type": "stream",
          "name": "stdout",
          "text": [
            "Logistic Regression\n",
            "              precision    recall  f1-score   support\n",
            "\n",
            "       False       0.79      0.83      0.81      1014\n",
            "        True       0.73      0.67      0.70       692\n",
            "\n",
            "    accuracy                           0.77      1706\n",
            "   macro avg       0.76      0.75      0.75      1706\n",
            "weighted avg       0.76      0.77      0.77      1706\n",
            "\n"
          ]
        }
      ]
    },
    {
      "cell_type": "code",
      "source": [
        "start=dt.datetime.now()\n",
        "nb = MultinomialNB()\n",
        "nb.fit(X_train,y_train)\n",
        "print('Elapsed time: ',str(dt.datetime.now()-start))"
      ],
      "metadata": {
        "colab": {
          "base_uri": "https://localhost:8080/"
        },
        "id": "37ajGAK62K_p",
        "outputId": "0b5af38d-be5b-43be-9c49-650c00c1701e"
      },
      "execution_count": null,
      "outputs": [
        {
          "output_type": "stream",
          "name": "stdout",
          "text": [
            "Elapsed time:  0:00:00.014031\n"
          ]
        }
      ]
    },
    {
      "cell_type": "code",
      "source": [
        "print(\"\\n Naive Bayes\")\n",
        "print(mt.classification_report(y_test, nb.predict(X_test)))\n"
      ],
      "metadata": {
        "colab": {
          "base_uri": "https://localhost:8080/"
        },
        "id": "V952vnJE2TZL",
        "outputId": "f2e95a6c-4178-43ac-f331-5c3fe636959d"
      },
      "execution_count": null,
      "outputs": [
        {
          "output_type": "stream",
          "name": "stdout",
          "text": [
            "\n",
            " Naive Bayes\n",
            "              precision    recall  f1-score   support\n",
            "\n",
            "       False       0.79      0.84      0.81      1014\n",
            "        True       0.74      0.67      0.70       692\n",
            "\n",
            "    accuracy                           0.77      1706\n",
            "   macro avg       0.76      0.75      0.76      1706\n",
            "weighted avg       0.77      0.77      0.77      1706\n",
            "\n"
          ]
        }
      ]
    },
    {
      "cell_type": "code",
      "source": [
        "start=dt.datetime.now()\n",
        "svm = SVC()\n",
        "svm.fit(X_train,y_train)\n",
        "print('Elapsed time: ',str(dt.datetime.now()-start))"
      ],
      "metadata": {
        "colab": {
          "base_uri": "https://localhost:8080/"
        },
        "id": "FjAXKjpv2Qeg",
        "outputId": "d9feef37-42f1-4d8e-ad3e-b69517427c6b"
      },
      "execution_count": null,
      "outputs": [
        {
          "output_type": "stream",
          "name": "stdout",
          "text": [
            "Elapsed time:  0:00:08.049103\n"
          ]
        }
      ]
    },
    {
      "cell_type": "code",
      "source": [
        "print(\"\\n Support Vector Machine (SVM)\")\n",
        "print(mt.classification_report(y_test, svm.predict(X_test)))"
      ],
      "metadata": {
        "colab": {
          "base_uri": "https://localhost:8080/"
        },
        "id": "6gsyFHJ82fQw",
        "outputId": "a3cf6114-ce5d-4411-f6c8-0ba13deb4703"
      },
      "execution_count": null,
      "outputs": [
        {
          "output_type": "stream",
          "name": "stdout",
          "text": [
            "\n",
            " Support Vector Machine (SVM)\n",
            "              precision    recall  f1-score   support\n",
            "\n",
            "       False       0.73      0.88      0.80      1014\n",
            "        True       0.75      0.53      0.62       692\n",
            "\n",
            "    accuracy                           0.74      1706\n",
            "   macro avg       0.74      0.70      0.71      1706\n",
            "weighted avg       0.74      0.74      0.73      1706\n",
            "\n"
          ]
        }
      ]
    },
    {
      "cell_type": "code",
      "source": [
        "from transformers import AutoTokenizer\n",
        "\n",
        "tokenizer = AutoTokenizer.from_pretrained('bert-base-cased')"
      ],
      "metadata": {
        "colab": {
          "base_uri": "https://localhost:8080/",
          "height": 145,
          "referenced_widgets": [
            "256815e7034945a3bb5be201cfcc41f5",
            "4012313688c34fae9789bc5fdfa94be9",
            "1a7fe83c612048a1b477d66665c42689",
            "9226bc427f7c4ae6a51b1eefc5a596a7",
            "4e35407fc9434aac917ad26f8a1ece47",
            "04d25f9926584832b914ace9e30197c7",
            "0eadd8c90d8f44298d3404815ae951a9",
            "58b29ba4542d4158977198cd88e7c3df",
            "beb5a79449bd46e88ca7ffa7a32bf260",
            "d55805d71b1545c1bb28aba374957d57",
            "75df3c7b5e684a54a2c57fe8f222551d",
            "3c1a30182591476e9e6e5e120c421da8",
            "960ec69ce262431d8912c2eede766d54",
            "233ae859d40f48b5b9dc9e5f557432c5",
            "37fce459256c43489adfd90522f458ec",
            "d94cd8fe78534b438acce4f4793bf5f9",
            "7e40bfb856e741eca29ea0a8d0bf7dc6",
            "1717fe2f7cff49f1a2c8972ca6cb7cc6",
            "b4e8061d2f0148ac95dbc7a5b803631a",
            "13e34c07e5b44da293a0b9027b20088e",
            "1243c02346274f8194f8e72408dd0ae4",
            "05ededbdc29745708e84442718d8c313",
            "903ac4a557fd49348434e976bd1d7100",
            "b31bf62283b84d659f54230dbaedc10f",
            "acbe05c4182544b190b817313b3f1e0c",
            "4e0e3ae7e33c403faf104b2c3f042e51",
            "7262ba383d1e4886aa55646c576087ff",
            "7f3d389c97a043108d9ee4b2bef961ec",
            "06cd298e4c354eb89ecec0ae20e05579",
            "2698859da86e49f5b6af09b358506316",
            "eea621a93d754c72b8a17bf394614e1e",
            "2834d5bd2f8541d7bd41e40e7882c503",
            "e2cd19b4f3354cd8952073168fd07b4a",
            "aeb2ad101c4d4ccc8b05182726db1430",
            "d6a3eb2793cd4440a1776f51a6d93fea",
            "3e5b6b111b2d43619a14c4659a09588d",
            "5b3d3371f8424fd9a48af3185ea99547",
            "90df6a5f16814bc7a00480966f33887c",
            "5539edf84711465ca3ebb0e8c0f16711",
            "f692d6cfbf1345d78842aacf3200e823",
            "326a4c85021142e29ed58f319b49992e",
            "f0208f64d9c54a338154341669ca424c",
            "e6f0283ece17499fb7eff4d8b60312db",
            "75b2f723f596428d8bd7f621a116b173"
          ]
        },
        "id": "l3cCNBVxiRuF",
        "outputId": "10333d25-4e50-44c0-8c87-e27a3917ccd9"
      },
      "execution_count": null,
      "outputs": [
        {
          "output_type": "display_data",
          "data": {
            "text/plain": [
              "Downloading (…)okenizer_config.json:   0%|          | 0.00/29.0 [00:00<?, ?B/s]"
            ],
            "application/vnd.jupyter.widget-view+json": {
              "version_major": 2,
              "version_minor": 0,
              "model_id": "256815e7034945a3bb5be201cfcc41f5"
            }
          },
          "metadata": {}
        },
        {
          "output_type": "display_data",
          "data": {
            "text/plain": [
              "Downloading (…)lve/main/config.json:   0%|          | 0.00/570 [00:00<?, ?B/s]"
            ],
            "application/vnd.jupyter.widget-view+json": {
              "version_major": 2,
              "version_minor": 0,
              "model_id": "3c1a30182591476e9e6e5e120c421da8"
            }
          },
          "metadata": {}
        },
        {
          "output_type": "display_data",
          "data": {
            "text/plain": [
              "Downloading (…)solve/main/vocab.txt:   0%|          | 0.00/213k [00:00<?, ?B/s]"
            ],
            "application/vnd.jupyter.widget-view+json": {
              "version_major": 2,
              "version_minor": 0,
              "model_id": "903ac4a557fd49348434e976bd1d7100"
            }
          },
          "metadata": {}
        },
        {
          "output_type": "display_data",
          "data": {
            "text/plain": [
              "Downloading (…)/main/tokenizer.json:   0%|          | 0.00/436k [00:00<?, ?B/s]"
            ],
            "application/vnd.jupyter.widget-view+json": {
              "version_major": 2,
              "version_minor": 0,
              "model_id": "aeb2ad101c4d4ccc8b05182726db1430"
            }
          },
          "metadata": {}
        }
      ]
    },
    {
      "cell_type": "code",
      "source": [
        "\n",
        "tokens = tokenizer.encode_plus(\"this should work\", max_length=SEQ_LEN, \n",
        "                               truncation=True, padding=\"max_length\",\n",
        "                               add_special_tokens=True, return_token_type_ids=False,\n",
        "                               return_attention_mask=True, return_tensors=\"tf\"\n",
        "                              )\n",
        "\n",
        "tokens"
      ],
      "metadata": {
        "colab": {
          "base_uri": "https://localhost:8080/"
        },
        "id": "_-kJz41kiU4O",
        "outputId": "0ca37341-261b-400d-efb6-93391079e7c0"
      },
      "execution_count": null,
      "outputs": [
        {
          "output_type": "execute_result",
          "data": {
            "text/plain": [
              "{'input_ids': <tf.Tensor: shape=(1, 50), dtype=int32, numpy=\n",
              "array([[ 101, 1142, 1431, 1250,  102,    0,    0,    0,    0,    0,    0,\n",
              "           0,    0,    0,    0,    0,    0,    0,    0,    0,    0,    0,\n",
              "           0,    0,    0,    0,    0,    0,    0,    0,    0,    0,    0,\n",
              "           0,    0,    0,    0,    0,    0,    0,    0,    0,    0,    0,\n",
              "           0,    0,    0,    0,    0,    0]], dtype=int32)>, 'attention_mask': <tf.Tensor: shape=(1, 50), dtype=int32, numpy=\n",
              "array([[1, 1, 1, 1, 1, 0, 0, 0, 0, 0, 0, 0, 0, 0, 0, 0, 0, 0, 0, 0, 0, 0,\n",
              "        0, 0, 0, 0, 0, 0, 0, 0, 0, 0, 0, 0, 0, 0, 0, 0, 0, 0, 0, 0, 0, 0,\n",
              "        0, 0, 0, 0, 0, 0]], dtype=int32)>}"
            ]
          },
          "metadata": {},
          "execution_count": 33
        }
      ]
    },
    {
      "cell_type": "code",
      "source": [
        "Xids = np.zeros((len(df), SEQ_LEN))\n",
        "Xmask = np.zeros((len(df), SEQ_LEN))\n",
        "\n",
        "Xids.shape, Xmask.shape"
      ],
      "metadata": {
        "colab": {
          "base_uri": "https://localhost:8080/"
        },
        "id": "BbDr6BcQiXZg",
        "outputId": "a391456a-4e7f-4e58-af06-4c343a07b3c3"
      },
      "execution_count": null,
      "outputs": [
        {
          "output_type": "execute_result",
          "data": {
            "text/plain": [
              "((8529, 50), (8529, 50))"
            ]
          },
          "metadata": {},
          "execution_count": 34
        }
      ]
    },
    {
      "cell_type": "code",
      "source": [
        "for i, sequence in enumerate(df[\"Phrase\"]):\n",
        "    tokens = tokenizer.encode_plus(sequence, max_length=SEQ_LEN, \n",
        "                               truncation=True, padding=\"max_length\",\n",
        "                               add_special_tokens=True, return_token_type_ids=False,\n",
        "                               return_attention_mask=True, return_tensors=\"tf\"\n",
        "                              )\n",
        "    Xids[i, :], Xmask[i, :] = tokens[\"input_ids\"], tokens[\"attention_mask\"]"
      ],
      "metadata": {
        "id": "EEK2vjhRicV2"
      },
      "execution_count": null,
      "outputs": []
    },
    {
      "cell_type": "code",
      "source": [
        "Xids[0]"
      ],
      "metadata": {
        "colab": {
          "base_uri": "https://localhost:8080/",
          "height": 171
        },
        "id": "ZVxw8UkFigXY",
        "outputId": "d610ab43-ba60-4ec7-d282-6b376bc61723"
      },
      "execution_count": null,
      "outputs": [
        {
          "output_type": "error",
          "ename": "NameError",
          "evalue": "ignored",
          "traceback": [
            "\u001b[0;31m---------------------------------------------------------------------------\u001b[0m",
            "\u001b[0;31mNameError\u001b[0m                                 Traceback (most recent call last)",
            "\u001b[0;32m<ipython-input-26-adcaa7013002>\u001b[0m in \u001b[0;36m<cell line: 1>\u001b[0;34m()\u001b[0m\n\u001b[0;32m----> 1\u001b[0;31m \u001b[0mXids\u001b[0m\u001b[0;34m[\u001b[0m\u001b[0;36m0\u001b[0m\u001b[0;34m]\u001b[0m\u001b[0;34m\u001b[0m\u001b[0;34m\u001b[0m\u001b[0m\n\u001b[0m",
            "\u001b[0;31mNameError\u001b[0m: name 'Xids' is not defined"
          ]
        }
      ]
    },
    {
      "cell_type": "code",
      "source": [
        "Xmask[0]"
      ],
      "metadata": {
        "colab": {
          "base_uri": "https://localhost:8080/"
        },
        "id": "JIm8XEk70_Zo",
        "outputId": "f3fe2bf7-f3b7-4cc8-ee62-fe8ce5b11594"
      },
      "execution_count": null,
      "outputs": [
        {
          "output_type": "execute_result",
          "data": {
            "text/plain": [
              "array([1., 1., 1., 1., 1., 1., 1., 1., 1., 1., 1., 1., 1., 1., 1., 1., 1.,\n",
              "       1., 1., 1., 1., 1., 1., 1., 1., 1., 1., 1., 1., 1., 1., 1., 1., 1.,\n",
              "       1., 1., 1., 1., 1., 1., 1., 1., 1., 1., 0., 0., 0., 0., 0., 0.])"
            ]
          },
          "metadata": {},
          "execution_count": 36
        }
      ]
    },
    {
      "cell_type": "code",
      "source": [
        "df[\"Sentiment\"].value_counts()\n"
      ],
      "metadata": {
        "colab": {
          "base_uri": "https://localhost:8080/"
        },
        "id": "Pr5qKoOj1HvD",
        "outputId": "bffb601a-8227-4b80-a912-03c3d4efdf60"
      },
      "execution_count": null,
      "outputs": [
        {
          "output_type": "execute_result",
          "data": {
            "text/plain": [
              "3    2321\n",
              "1    2200\n",
              "2    1655\n",
              "4    1281\n",
              "0    1072\n",
              "Name: Sentiment, dtype: int64"
            ]
          },
          "metadata": {},
          "execution_count": 24
        }
      ]
    },
    {
      "cell_type": "code",
      "source": [
        "arr = df[\"Sentiment\"].values\n",
        "labels = np.zeros((arr.size, arr.max()+1))\n",
        "labels[np.arange(arr.size), arr] = 1\n",
        "labels"
      ],
      "metadata": {
        "colab": {
          "base_uri": "https://localhost:8080/"
        },
        "id": "0BSC0woS1OOL",
        "outputId": "3e6f640f-6016-45af-a3b4-64ce760b31b9"
      },
      "execution_count": null,
      "outputs": [
        {
          "output_type": "execute_result",
          "data": {
            "text/plain": [
              "array([[0., 1., 0., 0., 0.],\n",
              "       [0., 0., 0., 0., 1.],\n",
              "       [0., 1., 0., 0., 0.],\n",
              "       ...,\n",
              "       [0., 1., 0., 0., 0.],\n",
              "       [0., 1., 0., 0., 0.],\n",
              "       [0., 0., 1., 0., 0.]])"
            ]
          },
          "metadata": {},
          "execution_count": 38
        }
      ]
    },
    {
      "cell_type": "code",
      "source": [
        "Xids.shape, Xmask.shape, labels.shape"
      ],
      "metadata": {
        "colab": {
          "base_uri": "https://localhost:8080/"
        },
        "id": "6xlGLuJ31OZd",
        "outputId": "9f51898d-7276-4d37-a1b2-6f7ed34bb87d"
      },
      "execution_count": null,
      "outputs": [
        {
          "output_type": "execute_result",
          "data": {
            "text/plain": [
              "((8529, 50), (8529, 50), (8529, 5))"
            ]
          },
          "metadata": {},
          "execution_count": 39
        }
      ]
    },
    {
      "cell_type": "code",
      "source": [
        "dataset = tf.data.Dataset.from_tensor_slices((Xids, Xmask, labels))"
      ],
      "metadata": {
        "id": "OWxpEHyU2RX8"
      },
      "execution_count": null,
      "outputs": []
    },
    {
      "cell_type": "code",
      "source": [
        "for i in dataset.take(1):\n",
        "    print(i)"
      ],
      "metadata": {
        "colab": {
          "base_uri": "https://localhost:8080/"
        },
        "id": "ldlp_FkS2Vlp",
        "outputId": "4d87081d-6227-4714-f147-267153166310"
      },
      "execution_count": null,
      "outputs": [
        {
          "output_type": "stream",
          "name": "stdout",
          "text": [
            "(<tf.Tensor: shape=(50,), dtype=float64, numpy=\n",
            "array([  101.,   138.,  1326.,  1104., 13936., 25265., 16913., 15107.,\n",
            "        1103.,  8050.,  2553.,  1115.,  1184.,  1110.,  1363.,  1111.,\n",
            "        1103., 20398.,  1110.,  1145.,  1363.,  1111.,  1103.,   176.,\n",
            "        9900.,   117.,  1199.,  1104.,  1134.,  5411.,  1821., 14225.,\n",
            "        1133.,  3839.,  1104.,  1134.,  7919.,  1106.,  1277.,  1104.,\n",
            "         170.,  1642.,   119.,   102.,     0.,     0.,     0.,     0.,\n",
            "           0.,     0.])>, <tf.Tensor: shape=(50,), dtype=float64, numpy=\n",
            "array([1., 1., 1., 1., 1., 1., 1., 1., 1., 1., 1., 1., 1., 1., 1., 1., 1.,\n",
            "       1., 1., 1., 1., 1., 1., 1., 1., 1., 1., 1., 1., 1., 1., 1., 1., 1.,\n",
            "       1., 1., 1., 1., 1., 1., 1., 1., 1., 1., 0., 0., 0., 0., 0., 0.])>, <tf.Tensor: shape=(5,), dtype=float64, numpy=array([0., 1., 0., 0., 0.])>)\n"
          ]
        }
      ]
    },
    {
      "cell_type": "code",
      "source": [
        "def map_func(input_ids, masks, labels):\n",
        "    return {\"input_ids\": input_ids, \"attention_mask\": masks}, labels"
      ],
      "metadata": {
        "id": "JOMODQa32VnG"
      },
      "execution_count": null,
      "outputs": []
    },
    {
      "cell_type": "code",
      "source": [
        "dataset = dataset.map(map_func)\n",
        "\n",
        "for i in dataset.take(1):\n",
        "    print(i)\n"
      ],
      "metadata": {
        "colab": {
          "base_uri": "https://localhost:8080/"
        },
        "id": "CW4RFQ7p2VrS",
        "outputId": "fdfeb725-45ca-448e-abd2-5fbeb755c1f3"
      },
      "execution_count": null,
      "outputs": [
        {
          "output_type": "stream",
          "name": "stdout",
          "text": [
            "({'input_ids': <tf.Tensor: shape=(50,), dtype=float64, numpy=\n",
            "array([  101.,   138.,  1326.,  1104., 13936., 25265., 16913., 15107.,\n",
            "        1103.,  8050.,  2553.,  1115.,  1184.,  1110.,  1363.,  1111.,\n",
            "        1103., 20398.,  1110.,  1145.,  1363.,  1111.,  1103.,   176.,\n",
            "        9900.,   117.,  1199.,  1104.,  1134.,  5411.,  1821., 14225.,\n",
            "        1133.,  3839.,  1104.,  1134.,  7919.,  1106.,  1277.,  1104.,\n",
            "         170.,  1642.,   119.,   102.,     0.,     0.,     0.,     0.,\n",
            "           0.,     0.])>, 'attention_mask': <tf.Tensor: shape=(50,), dtype=float64, numpy=\n",
            "array([1., 1., 1., 1., 1., 1., 1., 1., 1., 1., 1., 1., 1., 1., 1., 1., 1.,\n",
            "       1., 1., 1., 1., 1., 1., 1., 1., 1., 1., 1., 1., 1., 1., 1., 1., 1.,\n",
            "       1., 1., 1., 1., 1., 1., 1., 1., 1., 1., 0., 0., 0., 0., 0., 0.])>}, <tf.Tensor: shape=(5,), dtype=float64, numpy=array([0., 1., 0., 0., 0.])>)\n"
          ]
        }
      ]
    },
    {
      "cell_type": "code",
      "source": [
        "dataset = dataset.shuffle(1000000).batch(32)"
      ],
      "metadata": {
        "id": "mQq__pWg2jJQ"
      },
      "execution_count": null,
      "outputs": []
    },
    {
      "cell_type": "code",
      "source": [
        "DS_LEN = len(dataset)\n",
        "SPLIT = 0.8\n",
        "\n",
        "train_data = dataset.take(round(DS_LEN * SPLIT))\n",
        "val_data = dataset.skip(round(DS_LEN * SPLIT))\n",
        "\n",
        "del dataset"
      ],
      "metadata": {
        "id": "9PWaKLBV2jMN"
      },
      "execution_count": null,
      "outputs": []
    },
    {
      "cell_type": "code",
      "source": [
        "from transformers import TFAutoModel\n",
        "\n",
        "bert = TFAutoModel.from_pretrained(\"bert-base-cased\")"
      ],
      "metadata": {
        "colab": {
          "base_uri": "https://localhost:8080/",
          "height": 156,
          "referenced_widgets": [
            "f5d5e4a46b5c49da90ab53a1d3ab2ac0",
            "7ae717f8a5d643b79816986568e133ee",
            "d30b417294844da7af87dd85bb98cc7e",
            "6a8a3c34ca384faab4f0dfbaa44a2031",
            "29e0950bb43d41c099e2ee2c6f582df5",
            "1dea8c35e61a41288a4639b63f2b2209",
            "b41ff9ee19624ec2bbe0afe18fd548f7",
            "857cf6425d4247a8ad5f7c2c2792ebe6",
            "a12aceb7fbb04b4bac33d0925971c787",
            "bf8351c4a38d4d7c8f69c992a8f50d87",
            "542246388d6d42a38753452d864d18ea"
          ]
        },
        "id": "r04JIS6W2uvr",
        "outputId": "618ff498-93de-4a2a-d0b2-6c2cd5ed9d67"
      },
      "execution_count": null,
      "outputs": [
        {
          "output_type": "display_data",
          "data": {
            "text/plain": [
              "Downloading tf_model.h5:   0%|          | 0.00/527M [00:00<?, ?B/s]"
            ],
            "application/vnd.jupyter.widget-view+json": {
              "version_major": 2,
              "version_minor": 0,
              "model_id": "f5d5e4a46b5c49da90ab53a1d3ab2ac0"
            }
          },
          "metadata": {}
        },
        {
          "output_type": "stream",
          "name": "stderr",
          "text": [
            "Some layers from the model checkpoint at bert-base-cased were not used when initializing TFBertModel: ['nsp___cls', 'mlm___cls']\n",
            "- This IS expected if you are initializing TFBertModel from the checkpoint of a model trained on another task or with another architecture (e.g. initializing a BertForSequenceClassification model from a BertForPreTraining model).\n",
            "- This IS NOT expected if you are initializing TFBertModel from the checkpoint of a model that you expect to be exactly identical (initializing a BertForSequenceClassification model from a BertForSequenceClassification model).\n",
            "All the layers of TFBertModel were initialized from the model checkpoint at bert-base-cased.\n",
            "If your task is similar to the task the model of the checkpoint was trained on, you can already use TFBertModel for predictions without further training.\n"
          ]
        }
      ]
    },
    {
      "cell_type": "code",
      "source": [
        "input_ids = tf.keras.layers.Input(shape=(SEQ_LEN, ), name=\"input_ids\", dtype=\"int32\")\n",
        "mask = tf.keras.layers.Input(shape=(SEQ_LEN, ), name=\"attention_mask\", dtype=\"int32\")\n",
        "\n",
        "embeddings = bert(input_ids, attention_mask=mask)[0]\n",
        "\n",
        "X = tf.keras.layers.GlobalMaxPool1D()(embeddings)\n",
        "X = tf.keras.layers.BatchNormalization()(X)\n",
        "X = tf.keras.layers.Dense(64, activation=\"relu\")(X)\n",
        "X = tf.keras.layers.Dense(128, activation=\"relu\")(X)\n",
        "X = tf.keras.layers.Dropout(0.1)(X)\n",
        "X = tf.keras.layers.Dense(64, activation=\"relu\")(X)\n",
        "X = tf.keras.layers.Dense(32, activation=\"relu\")(X)\n",
        "\n",
        "y = tf.keras.layers.Dense(5, activation=\"softmax\",  name=\"outputs\")(X)\n",
        "\n",
        "model = tf.keras.Model(inputs=[input_ids, mask], outputs=y)\n",
        "\n",
        "model.layers[2].trainable = False"
      ],
      "metadata": {
        "id": "W7kNTVO_220n"
      },
      "execution_count": null,
      "outputs": []
    },
    {
      "cell_type": "code",
      "source": [
        "callbacks = [tf.keras.callbacks.EarlyStopping(monitor=\"val_loss\",patience=8),\n",
        "            tf.keras.callbacks.ModelCheckpoint(\"/defult/working/models/dense_transformer_model.h5\",verbose= 1 ,save_best_only=True)]\n",
        "\n",
        "optimizer = tf.keras.optimizers.Adam(0.001)\n",
        "loss = tf.keras.losses.CategoricalCrossentropy()\n",
        "acc = tf.keras.metrics.CategoricalAccuracy(\"accuracy\")\n",
        "\n",
        "model.compile(optimizer=optimizer, loss=loss, metrics=[acc])"
      ],
      "metadata": {
        "id": "CsPRKo3w3FgN"
      },
      "execution_count": null,
      "outputs": []
    },
    {
      "cell_type": "code",
      "source": [
        "history = model.fit(train_data, \n",
        "                   validation_data=val_data,\n",
        "                   epochs=50,\n",
        "                   callbacks=callbacks\n",
        "                   )"
      ],
      "metadata": {
        "colab": {
          "base_uri": "https://localhost:8080/"
        },
        "id": "fl-bMBbT3JI3",
        "outputId": "ca9f5f49-66ab-45c7-e5db-938425d407f8"
      },
      "execution_count": null,
      "outputs": [
        {
          "output_type": "stream",
          "name": "stdout",
          "text": [
            "Epoch 1/50\n",
            "240/240 [==============================] - ETA: 0s - loss: 1.4364 - accuracy: 0.3607\n",
            "Epoch 1: val_loss improved from inf to 1.28375, saving model to /defult/working/models/dense_transformer_model.h5\n",
            "240/240 [==============================] - 60s 158ms/step - loss: 1.4364 - accuracy: 0.3607 - val_loss: 1.2838 - val_accuracy: 0.4499\n",
            "Epoch 2/50\n",
            "240/240 [==============================] - ETA: 0s - loss: 1.3034 - accuracy: 0.4302\n",
            "Epoch 2: val_loss improved from 1.28375 to 1.15685, saving model to /defult/working/models/dense_transformer_model.h5\n",
            "240/240 [==============================] - 37s 153ms/step - loss: 1.3034 - accuracy: 0.4302 - val_loss: 1.1569 - val_accuracy: 0.4876\n",
            "Epoch 3/50\n",
            "240/240 [==============================] - ETA: 0s - loss: 1.2690 - accuracy: 0.4475\n",
            "Epoch 3: val_loss did not improve from 1.15685\n",
            "240/240 [==============================] - 33s 137ms/step - loss: 1.2690 - accuracy: 0.4475 - val_loss: 1.2041 - val_accuracy: 0.4900\n",
            "Epoch 4/50\n",
            "240/240 [==============================] - ETA: 0s - loss: 1.2429 - accuracy: 0.4555\n",
            "Epoch 4: val_loss improved from 1.15685 to 1.13824, saving model to /defult/working/models/dense_transformer_model.h5\n",
            "240/240 [==============================] - 35s 145ms/step - loss: 1.2429 - accuracy: 0.4555 - val_loss: 1.1382 - val_accuracy: 0.5159\n",
            "Epoch 5/50\n",
            "240/240 [==============================] - ETA: 0s - loss: 1.2278 - accuracy: 0.4732\n",
            "Epoch 5: val_loss improved from 1.13824 to 1.06443, saving model to /defult/working/models/dense_transformer_model.h5\n",
            "240/240 [==============================] - 35s 146ms/step - loss: 1.2278 - accuracy: 0.4732 - val_loss: 1.0644 - val_accuracy: 0.5453\n",
            "Epoch 6/50\n",
            "240/240 [==============================] - ETA: 0s - loss: 1.2011 - accuracy: 0.4793\n",
            "Epoch 6: val_loss did not improve from 1.06443\n",
            "240/240 [==============================] - 33s 138ms/step - loss: 1.2011 - accuracy: 0.4793 - val_loss: 1.0698 - val_accuracy: 0.5477\n",
            "Epoch 7/50\n",
            "240/240 [==============================] - ETA: 0s - loss: 1.1770 - accuracy: 0.4898\n",
            "Epoch 7: val_loss improved from 1.06443 to 1.03383, saving model to /defult/working/models/dense_transformer_model.h5\n",
            "240/240 [==============================] - 35s 146ms/step - loss: 1.1770 - accuracy: 0.4898 - val_loss: 1.0338 - val_accuracy: 0.5430\n",
            "Epoch 8/50\n",
            "240/240 [==============================] - ETA: 0s - loss: 1.1646 - accuracy: 0.4935\n",
            "Epoch 8: val_loss improved from 1.03383 to 0.98523, saving model to /defult/working/models/dense_transformer_model.h5\n",
            "240/240 [==============================] - 35s 145ms/step - loss: 1.1646 - accuracy: 0.4935 - val_loss: 0.9852 - val_accuracy: 0.6031\n",
            "Epoch 9/50\n",
            "240/240 [==============================] - ETA: 0s - loss: 1.1514 - accuracy: 0.5009\n",
            "Epoch 9: val_loss did not improve from 0.98523\n",
            "240/240 [==============================] - 35s 147ms/step - loss: 1.1514 - accuracy: 0.5009 - val_loss: 1.0164 - val_accuracy: 0.5948\n",
            "Epoch 10/50\n",
            "240/240 [==============================] - ETA: 0s - loss: 1.1405 - accuracy: 0.5111\n",
            "Epoch 10: val_loss did not improve from 0.98523\n",
            "240/240 [==============================] - 33s 139ms/step - loss: 1.1405 - accuracy: 0.5111 - val_loss: 1.0090 - val_accuracy: 0.5901\n",
            "Epoch 11/50\n",
            "240/240 [==============================] - ETA: 0s - loss: 1.1221 - accuracy: 0.5195\n",
            "Epoch 11: val_loss improved from 0.98523 to 0.94186, saving model to /defult/working/models/dense_transformer_model.h5\n",
            "240/240 [==============================] - 35s 145ms/step - loss: 1.1221 - accuracy: 0.5195 - val_loss: 0.9419 - val_accuracy: 0.6302\n",
            "Epoch 12/50\n",
            "240/240 [==============================] - ETA: 0s - loss: 1.0946 - accuracy: 0.5345\n",
            "Epoch 12: val_loss improved from 0.94186 to 0.86358, saving model to /defult/working/models/dense_transformer_model.h5\n",
            "240/240 [==============================] - 35s 146ms/step - loss: 1.0946 - accuracy: 0.5345 - val_loss: 0.8636 - val_accuracy: 0.6726\n",
            "Epoch 13/50\n",
            "240/240 [==============================] - ETA: 0s - loss: 1.0921 - accuracy: 0.5327\n",
            "Epoch 13: val_loss did not improve from 0.86358\n",
            "240/240 [==============================] - 34s 138ms/step - loss: 1.0921 - accuracy: 0.5327 - val_loss: 0.8914 - val_accuracy: 0.6302\n",
            "Epoch 14/50\n",
            "240/240 [==============================] - ETA: 0s - loss: 1.0701 - accuracy: 0.5449\n",
            "Epoch 14: val_loss did not improve from 0.86358\n",
            "240/240 [==============================] - 33s 138ms/step - loss: 1.0701 - accuracy: 0.5449 - val_loss: 0.8642 - val_accuracy: 0.6478\n",
            "Epoch 15/50\n",
            "240/240 [==============================] - ETA: 0s - loss: 1.0661 - accuracy: 0.5500\n",
            "Epoch 15: val_loss improved from 0.86358 to 0.84986, saving model to /defult/working/models/dense_transformer_model.h5\n",
            "240/240 [==============================] - 35s 145ms/step - loss: 1.0661 - accuracy: 0.5500 - val_loss: 0.8499 - val_accuracy: 0.6773\n",
            "Epoch 16/50\n",
            "240/240 [==============================] - ETA: 0s - loss: 1.0477 - accuracy: 0.5621\n",
            "Epoch 16: val_loss improved from 0.84986 to 0.77856, saving model to /defult/working/models/dense_transformer_model.h5\n",
            "240/240 [==============================] - 35s 144ms/step - loss: 1.0477 - accuracy: 0.5621 - val_loss: 0.7786 - val_accuracy: 0.6926\n",
            "Epoch 17/50\n",
            "240/240 [==============================] - ETA: 0s - loss: 1.0366 - accuracy: 0.5647\n",
            "Epoch 17: val_loss did not improve from 0.77856\n",
            "240/240 [==============================] - 35s 146ms/step - loss: 1.0366 - accuracy: 0.5647 - val_loss: 0.7869 - val_accuracy: 0.6890\n",
            "Epoch 18/50\n",
            "240/240 [==============================] - ETA: 0s - loss: 1.0195 - accuracy: 0.5671\n",
            "Epoch 18: val_loss did not improve from 0.77856\n",
            "240/240 [==============================] - 33s 138ms/step - loss: 1.0195 - accuracy: 0.5671 - val_loss: 0.7856 - val_accuracy: 0.7102\n",
            "Epoch 19/50\n",
            "240/240 [==============================] - ETA: 0s - loss: 1.0017 - accuracy: 0.5802\n",
            "Epoch 19: val_loss improved from 0.77856 to 0.75320, saving model to /defult/working/models/dense_transformer_model.h5\n",
            "240/240 [==============================] - 36s 147ms/step - loss: 1.0017 - accuracy: 0.5802 - val_loss: 0.7532 - val_accuracy: 0.7161\n",
            "Epoch 20/50\n",
            "240/240 [==============================] - ETA: 0s - loss: 1.0031 - accuracy: 0.5772\n",
            "Epoch 20: val_loss improved from 0.75320 to 0.72998, saving model to /defult/working/models/dense_transformer_model.h5\n",
            "240/240 [==============================] - 35s 145ms/step - loss: 1.0031 - accuracy: 0.5772 - val_loss: 0.7300 - val_accuracy: 0.7126\n",
            "Epoch 21/50\n",
            "240/240 [==============================] - ETA: 0s - loss: 0.9775 - accuracy: 0.5954\n",
            "Epoch 21: val_loss improved from 0.72998 to 0.67284, saving model to /defult/working/models/dense_transformer_model.h5\n",
            "240/240 [==============================] - 35s 146ms/step - loss: 0.9775 - accuracy: 0.5954 - val_loss: 0.6728 - val_accuracy: 0.7350\n",
            "Epoch 22/50\n",
            "240/240 [==============================] - ETA: 0s - loss: 0.9678 - accuracy: 0.6016\n",
            "Epoch 22: val_loss did not improve from 0.67284\n",
            "240/240 [==============================] - 34s 138ms/step - loss: 0.9678 - accuracy: 0.6016 - val_loss: 0.7010 - val_accuracy: 0.7303\n",
            "Epoch 23/50\n",
            "240/240 [==============================] - ETA: 0s - loss: 0.9652 - accuracy: 0.5967\n",
            "Epoch 23: val_loss improved from 0.67284 to 0.66727, saving model to /defult/working/models/dense_transformer_model.h5\n",
            "240/240 [==============================] - 35s 144ms/step - loss: 0.9652 - accuracy: 0.5967 - val_loss: 0.6673 - val_accuracy: 0.7409\n",
            "Epoch 24/50\n",
            "240/240 [==============================] - ETA: 0s - loss: 0.9378 - accuracy: 0.6109\n",
            "Epoch 24: val_loss improved from 0.66727 to 0.62056, saving model to /defult/working/models/dense_transformer_model.h5\n",
            "240/240 [==============================] - 35s 145ms/step - loss: 0.9378 - accuracy: 0.6109 - val_loss: 0.6206 - val_accuracy: 0.7538\n",
            "Epoch 25/50\n",
            "240/240 [==============================] - ETA: 0s - loss: 0.9431 - accuracy: 0.6077\n",
            "Epoch 25: val_loss improved from 0.62056 to 0.61285, saving model to /defult/working/models/dense_transformer_model.h5\n",
            "240/240 [==============================] - 35s 146ms/step - loss: 0.9431 - accuracy: 0.6077 - val_loss: 0.6129 - val_accuracy: 0.7786\n",
            "Epoch 26/50\n",
            "240/240 [==============================] - ETA: 0s - loss: 0.9175 - accuracy: 0.6203\n",
            "Epoch 26: val_loss improved from 0.61285 to 0.57755, saving model to /defult/working/models/dense_transformer_model.h5\n",
            "240/240 [==============================] - 35s 145ms/step - loss: 0.9175 - accuracy: 0.6203 - val_loss: 0.5775 - val_accuracy: 0.7962\n",
            "Epoch 27/50\n",
            "240/240 [==============================] - ETA: 0s - loss: 0.9173 - accuracy: 0.6264\n",
            "Epoch 27: val_loss did not improve from 0.57755\n",
            "240/240 [==============================] - 35s 145ms/step - loss: 0.9173 - accuracy: 0.6264 - val_loss: 0.5922 - val_accuracy: 0.7892\n",
            "Epoch 28/50\n",
            "240/240 [==============================] - ETA: 0s - loss: 0.9149 - accuracy: 0.6286\n",
            "Epoch 28: val_loss improved from 0.57755 to 0.56818, saving model to /defult/working/models/dense_transformer_model.h5\n",
            "240/240 [==============================] - 35s 146ms/step - loss: 0.9149 - accuracy: 0.6286 - val_loss: 0.5682 - val_accuracy: 0.8139\n",
            "Epoch 29/50\n",
            "240/240 [==============================] - ETA: 0s - loss: 0.8997 - accuracy: 0.6272\n",
            "Epoch 29: val_loss improved from 0.56818 to 0.56192, saving model to /defult/working/models/dense_transformer_model.h5\n",
            "240/240 [==============================] - 37s 153ms/step - loss: 0.8997 - accuracy: 0.6272 - val_loss: 0.5619 - val_accuracy: 0.8127\n",
            "Epoch 30/50\n",
            "240/240 [==============================] - ETA: 0s - loss: 0.8980 - accuracy: 0.6320\n",
            "Epoch 30: val_loss improved from 0.56192 to 0.54662, saving model to /defult/working/models/dense_transformer_model.h5\n",
            "240/240 [==============================] - 35s 144ms/step - loss: 0.8980 - accuracy: 0.6320 - val_loss: 0.5466 - val_accuracy: 0.8127\n",
            "Epoch 31/50\n",
            "240/240 [==============================] - ETA: 0s - loss: 0.8963 - accuracy: 0.6362\n",
            "Epoch 31: val_loss improved from 0.54662 to 0.54647, saving model to /defult/working/models/dense_transformer_model.h5\n",
            "240/240 [==============================] - 35s 144ms/step - loss: 0.8963 - accuracy: 0.6362 - val_loss: 0.5465 - val_accuracy: 0.8245\n",
            "Epoch 32/50\n",
            "240/240 [==============================] - ETA: 0s - loss: 0.8710 - accuracy: 0.6415\n",
            "Epoch 32: val_loss did not improve from 0.54647\n",
            "240/240 [==============================] - 33s 137ms/step - loss: 0.8710 - accuracy: 0.6415 - val_loss: 0.5552 - val_accuracy: 0.8245\n",
            "Epoch 33/50\n",
            "240/240 [==============================] - ETA: 0s - loss: 0.8759 - accuracy: 0.6448\n",
            "Epoch 33: val_loss improved from 0.54647 to 0.53691, saving model to /defult/working/models/dense_transformer_model.h5\n",
            "240/240 [==============================] - 35s 145ms/step - loss: 0.8759 - accuracy: 0.6448 - val_loss: 0.5369 - val_accuracy: 0.8245\n",
            "Epoch 34/50\n",
            "240/240 [==============================] - ETA: 0s - loss: 0.8732 - accuracy: 0.6453\n",
            "Epoch 34: val_loss improved from 0.53691 to 0.48180, saving model to /defult/working/models/dense_transformer_model.h5\n",
            "240/240 [==============================] - 35s 145ms/step - loss: 0.8732 - accuracy: 0.6453 - val_loss: 0.4818 - val_accuracy: 0.8410\n",
            "Epoch 35/50\n",
            "240/240 [==============================] - ETA: 0s - loss: 0.8492 - accuracy: 0.6564\n",
            "Epoch 35: val_loss did not improve from 0.48180\n",
            "240/240 [==============================] - 33s 138ms/step - loss: 0.8492 - accuracy: 0.6564 - val_loss: 0.5026 - val_accuracy: 0.8221\n",
            "Epoch 36/50\n",
            "240/240 [==============================] - ETA: 0s - loss: 0.8395 - accuracy: 0.6637\n",
            "Epoch 36: val_loss did not improve from 0.48180\n",
            "240/240 [==============================] - 33s 138ms/step - loss: 0.8395 - accuracy: 0.6637 - val_loss: 0.4979 - val_accuracy: 0.8316\n",
            "Epoch 37/50\n",
            "240/240 [==============================] - ETA: 0s - loss: 0.8599 - accuracy: 0.6496\n",
            "Epoch 37: val_loss improved from 0.48180 to 0.45627, saving model to /defult/working/models/dense_transformer_model.h5\n",
            "240/240 [==============================] - 35s 145ms/step - loss: 0.8599 - accuracy: 0.6496 - val_loss: 0.4563 - val_accuracy: 0.8422\n",
            "Epoch 38/50\n",
            "240/240 [==============================] - ETA: 0s - loss: 0.8329 - accuracy: 0.6635\n",
            "Epoch 38: val_loss did not improve from 0.45627\n",
            "240/240 [==============================] - 33s 137ms/step - loss: 0.8329 - accuracy: 0.6635 - val_loss: 0.4865 - val_accuracy: 0.8304\n",
            "Epoch 39/50\n",
            "240/240 [==============================] - ETA: 0s - loss: 0.8194 - accuracy: 0.6742\n",
            "Epoch 39: val_loss improved from 0.45627 to 0.45592, saving model to /defult/working/models/dense_transformer_model.h5\n",
            "240/240 [==============================] - 37s 153ms/step - loss: 0.8194 - accuracy: 0.6742 - val_loss: 0.4559 - val_accuracy: 0.8516\n",
            "Epoch 40/50\n",
            "240/240 [==============================] - ETA: 0s - loss: 0.8085 - accuracy: 0.6737\n",
            "Epoch 40: val_loss improved from 0.45592 to 0.42125, saving model to /defult/working/models/dense_transformer_model.h5\n",
            "240/240 [==============================] - 35s 145ms/step - loss: 0.8085 - accuracy: 0.6737 - val_loss: 0.4213 - val_accuracy: 0.8693\n",
            "Epoch 41/50\n",
            "240/240 [==============================] - ETA: 0s - loss: 0.8219 - accuracy: 0.6650\n",
            "Epoch 41: val_loss did not improve from 0.42125\n",
            "240/240 [==============================] - 33s 138ms/step - loss: 0.8219 - accuracy: 0.6650 - val_loss: 0.4569 - val_accuracy: 0.8316\n",
            "Epoch 42/50\n",
            "240/240 [==============================] - ETA: 0s - loss: 0.8188 - accuracy: 0.6689\n",
            "Epoch 42: val_loss did not improve from 0.42125\n",
            "240/240 [==============================] - 34s 138ms/step - loss: 0.8188 - accuracy: 0.6689 - val_loss: 0.4298 - val_accuracy: 0.8693\n",
            "Epoch 43/50\n",
            "240/240 [==============================] - ETA: 0s - loss: 0.8102 - accuracy: 0.6780\n",
            "Epoch 43: val_loss improved from 0.42125 to 0.41828, saving model to /defult/working/models/dense_transformer_model.h5\n",
            "240/240 [==============================] - 35s 145ms/step - loss: 0.8102 - accuracy: 0.6780 - val_loss: 0.4183 - val_accuracy: 0.8610\n",
            "Epoch 44/50\n",
            "240/240 [==============================] - ETA: 0s - loss: 0.8048 - accuracy: 0.6815\n",
            "Epoch 44: val_loss improved from 0.41828 to 0.39997, saving model to /defult/working/models/dense_transformer_model.h5\n",
            "240/240 [==============================] - 35s 146ms/step - loss: 0.8048 - accuracy: 0.6815 - val_loss: 0.4000 - val_accuracy: 0.8834\n",
            "Epoch 45/50\n",
            "240/240 [==============================] - ETA: 0s - loss: 0.8039 - accuracy: 0.6772\n",
            "Epoch 45: val_loss did not improve from 0.39997\n",
            "240/240 [==============================] - 33s 138ms/step - loss: 0.8039 - accuracy: 0.6772 - val_loss: 0.4495 - val_accuracy: 0.8445\n",
            "Epoch 46/50\n",
            "240/240 [==============================] - ETA: 0s - loss: 0.7877 - accuracy: 0.6871\n",
            "Epoch 46: val_loss improved from 0.39997 to 0.37703, saving model to /defult/working/models/dense_transformer_model.h5\n",
            "240/240 [==============================] - 35s 146ms/step - loss: 0.7877 - accuracy: 0.6871 - val_loss: 0.3770 - val_accuracy: 0.8822\n",
            "Epoch 47/50\n",
            "240/240 [==============================] - ETA: 0s - loss: 0.7975 - accuracy: 0.6780\n",
            "Epoch 47: val_loss did not improve from 0.37703\n",
            "240/240 [==============================] - 33s 138ms/step - loss: 0.7975 - accuracy: 0.6780 - val_loss: 0.4100 - val_accuracy: 0.8716\n",
            "Epoch 48/50\n",
            "240/240 [==============================] - ETA: 0s - loss: 0.7729 - accuracy: 0.6835\n",
            "Epoch 48: val_loss did not improve from 0.37703\n",
            "240/240 [==============================] - 35s 146ms/step - loss: 0.7729 - accuracy: 0.6835 - val_loss: 0.4021 - val_accuracy: 0.8634\n",
            "Epoch 49/50\n",
            "240/240 [==============================] - ETA: 0s - loss: 0.7779 - accuracy: 0.6861\n",
            "Epoch 49: val_loss did not improve from 0.37703\n",
            "240/240 [==============================] - 35s 146ms/step - loss: 0.7779 - accuracy: 0.6861 - val_loss: 0.4000 - val_accuracy: 0.8763\n",
            "Epoch 50/50\n",
            "240/240 [==============================] - ETA: 0s - loss: 0.7826 - accuracy: 0.6814\n",
            "Epoch 50: val_loss did not improve from 0.37703\n",
            "240/240 [==============================] - 33s 138ms/step - loss: 0.7826 - accuracy: 0.6814 - val_loss: 0.3821 - val_accuracy: 0.8881\n"
          ]
        }
      ]
    },
    {
      "cell_type": "code",
      "source": [
        "hist = history\n",
        "plt.figure(figsize=(15,6))\n",
        "\n",
        "plt.subplot(1,2,1)\n",
        "plt.plot(hist.epoch,hist.history['accuracy'],label = 'Training')\n",
        "plt.plot(hist.epoch,hist.history['val_accuracy'],label = 'validation')\n",
        "\n",
        "plt.title(\"Accuracy\")\n",
        "plt.legend()\n",
        "\n",
        "plt.subplot(1,2,2)\n",
        "plt.plot(hist.epoch,hist.history['loss'],label = 'Training')\n",
        "plt.plot(hist.epoch,hist.history['val_loss'],label = 'validation')\n",
        "\n",
        "plt.title(\"Loss\")\n",
        "plt.legend()\n",
        "plt.show()"
      ],
      "metadata": {
        "colab": {
          "base_uri": "https://localhost:8080/"
        },
        "id": "modyqrt33wJG",
        "outputId": "28904e52-2d8d-4fda-c9a5-1fba8b68f91f"
      },
      "execution_count": null,
      "outputs": [
        {
          "output_type": "display_data",
          "data": {
            "text/plain": [
              "<Figure size 1500x600 with 2 Axes>"
            ],
            "image/png": "[encoded data removed]"
          },
          "metadata": {}
        }
      ]
    },
    {
      "cell_type": "code",
      "source": [
        "def map_to_input(sen:str, seq_len:int):\n",
        "    tokens = tokenizer.encode_plus(sen, max_length=seq_len, \n",
        "                               truncation=True, padding=\"max_length\",\n",
        "                               add_special_tokens=True, return_token_type_ids=False,\n",
        "                               return_attention_mask=True, return_tensors=\"tf\"\n",
        "                              )\n",
        "    \n",
        "    return tokens"
      ],
      "metadata": {
        "id": "k-cRAAor989U"
      },
      "execution_count": null,
      "outputs": []
    },
    {
      "cell_type": "code",
      "source": [
        "from transformers import TFBertModel\n",
        "\n",
        "# Define the custom objects dictionary with the TFBertModel layer\n",
        "custom_objects = {'TFBertModel': TFBertModel}\n",
        "\n",
        "# Load the model and pass the custom objects dictionary\n",
        "model = tf.keras.models.load_model('/defult/working/models/dense_transformer_model.h5', custom_objects=custom_objects)"
      ],
      "metadata": {
        "colab": {
          "base_uri": "https://localhost:8080/"
        },
        "id": "rGcozxYU-DbR",
        "outputId": "fe9f6775-ec51-499a-a12f-3af52fe6bde2"
      },
      "execution_count": null,
      "outputs": [
        {
          "output_type": "stream",
          "name": "stderr",
          "text": [
            "WARNING:tensorflow:Error in loading the saved optimizer state. As a result, your model is starting with a freshly initialized optimizer.\n"
          ]
        }
      ]
    },
    {
      "cell_type": "code",
      "source": [
        "classes = {\n",
        "    0: 1,\n",
        "    1: 2,\n",
        "    2:3,\n",
        "    3:4,\n",
        "    4: 5\n",
        "}"
      ],
      "metadata": {
        "id": "Bh4Icjfu-QfY"
      },
      "execution_count": null,
      "outputs": []
    },
    {
      "cell_type": "code",
      "source": [
        "test_data = pd.read_csv(\"/content/gdrive/My Drive/ctsd/test.tsv\", sep=\"\\t\")\n",
        "test_data.drop_duplicates(subset=\"SentenceId\", keep=\"first\", inplace=True)\n",
        "test_data.head()"
      ],
      "metadata": {
        "colab": {
          "base_uri": "https://localhost:8080/"
        },
        "id": "NhYRLCgp-VMG",
        "outputId": "211b1e9b-7cf3-4307-de8d-b5f8a3494475"
      },
      "execution_count": null,
      "outputs": [
        {
          "output_type": "execute_result",
          "data": {
            "text/plain": [
              "     PhraseId  SentenceId                                             Phrase\n",
              "0      156061        8545  An intermittently pleasing but mostly routine ...\n",
              "15     156076        8546  Kidman is really the only thing that 's worth ...\n",
              "93     156154        8547  Once you get into its rhythm ... the movie bec...\n",
              "117    156178        8548  I kept wishing I was watching a documentary ab...\n",
              "158    156219        8549  Kinnear does n't aim for our sympathy , but ra..."
            ],
            "text/html": [
              "\n",
              "  <div id=\"df-551814ef-5b9e-4822-9fa3-101e300184fd\">\n",
              "    <div class=\"colab-df-container\">\n",
              "      <div>\n",
              "<style scoped>\n",
              "    .dataframe tbody tr th:only-of-type {\n",
              "        vertical-align: middle;\n",
              "    }\n",
              "\n",
              "    .dataframe tbody tr th {\n",
              "        vertical-align: top;\n",
              "    }\n",
              "\n",
              "    .dataframe thead th {\n",
              "        text-align: right;\n",
              "    }\n",
              "</style>\n",
              "<table border=\"1\" class=\"dataframe\">\n",
              "  <thead>\n",
              "    <tr style=\"text-align: right;\">\n",
              "      <th></th>\n",
              "      <th>PhraseId</th>\n",
              "      <th>SentenceId</th>\n",
              "      <th>Phrase</th>\n",
              "    </tr>\n",
              "  </thead>\n",
              "  <tbody>\n",
              "    <tr>\n",
              "      <th>0</th>\n",
              "      <td>156061</td>\n",
              "      <td>8545</td>\n",
              "      <td>An intermittently pleasing but mostly routine ...</td>\n",
              "    </tr>\n",
              "    <tr>\n",
              "      <th>15</th>\n",
              "      <td>156076</td>\n",
              "      <td>8546</td>\n",
              "      <td>Kidman is really the only thing that 's worth ...</td>\n",
              "    </tr>\n",
              "    <tr>\n",
              "      <th>93</th>\n",
              "      <td>156154</td>\n",
              "      <td>8547</td>\n",
              "      <td>Once you get into its rhythm ... the movie bec...</td>\n",
              "    </tr>\n",
              "    <tr>\n",
              "      <th>117</th>\n",
              "      <td>156178</td>\n",
              "      <td>8548</td>\n",
              "      <td>I kept wishing I was watching a documentary ab...</td>\n",
              "    </tr>\n",
              "    <tr>\n",
              "      <th>158</th>\n",
              "      <td>156219</td>\n",
              "      <td>8549</td>\n",
              "      <td>Kinnear does n't aim for our sympathy , but ra...</td>\n",
              "    </tr>\n",
              "  </tbody>\n",
              "</table>\n",
              "</div>\n",
              "      <button class=\"colab-df-convert\" onclick=\"convertToInteractive('df-551814ef-5b9e-4822-9fa3-101e300184fd')\"\n",
              "              title=\"Convert this dataframe to an interactive table.\"\n",
              "              style=\"display:none;\">\n",
              "        \n",
              "  <svg xmlns=\"http://www.w3.org/2000/svg\" height=\"24px\"viewBox=\"0 0 24 24\"\n",
              "       width=\"24px\">\n",
              "    <path d=\"M0 0h24v24H0V0z\" fill=\"none\"/>\n",
              "    <path d=\"M18.56 5.44l.94 2.06.94-2.06 2.06-.94-2.06-.94-.94-2.06-.94 2.06-2.06.94zm-11 1L8.5 8.5l.94-2.06 2.06-.94-2.06-.94L8.5 2.5l-.94 2.06-2.06.94zm10 10l.94 2.06.94-2.06 2.06-.94-2.06-.94-.94-2.06-.94 2.06-2.06.94z\"/><path d=\"M17.41 7.96l-1.37-1.37c-.4-.4-.92-.59-1.43-.59-.52 0-1.04.2-1.43.59L10.3 9.45l-7.72 7.72c-.78.78-.78 2.05 0 2.83L4 21.41c.39.39.9.59 1.41.59.51 0 1.02-.2 1.41-.59l7.78-7.78 2.81-2.81c.8-.78.8-2.07 0-2.86zM5.41 20L4 18.59l7.72-7.72 1.47 1.35L5.41 20z\"/>\n",
              "  </svg>\n",
              "      </button>\n",
              "      \n",
              "  <style>\n",
              "    .colab-df-container {\n",
              "      display:flex;\n",
              "      flex-wrap:wrap;\n",
              "      gap: 12px;\n",
              "    }\n",
              "\n",
              "    .colab-df-convert {\n",
              "      background-color: #E8F0FE;\n",
              "      border: none;\n",
              "      border-radius: 50%;\n",
              "      cursor: pointer;\n",
              "      display: none;\n",
              "      fill: #1967D2;\n",
              "      height: 32px;\n",
              "      padding: 0 0 0 0;\n",
              "      width: 32px;\n",
              "    }\n",
              "\n",
              "    .colab-df-convert:hover {\n",
              "      background-color: #E2EBFA;\n",
              "      box-shadow: 0px 1px 2px rgba(60, 64, 67, 0.3), 0px 1px 3px 1px rgba(60, 64, 67, 0.15);\n",
              "      fill: #174EA6;\n",
              "    }\n",
              "\n",
              "    [theme=dark] .colab-df-convert {\n",
              "      background-color: #3B4455;\n",
              "      fill: #D2E3FC;\n",
              "    }\n",
              "\n",
              "    [theme=dark] .colab-df-convert:hover {\n",
              "      background-color: #434B5C;\n",
              "      box-shadow: 0px 1px 3px 1px rgba(0, 0, 0, 0.15);\n",
              "      filter: drop-shadow(0px 1px 2px rgba(0, 0, 0, 0.3));\n",
              "      fill: #FFFFFF;\n",
              "    }\n",
              "  </style>\n",
              "\n",
              "      <script>\n",
              "        const buttonEl =\n",
              "          document.querySelector('#df-551814ef-5b9e-4822-9fa3-101e300184fd button.colab-df-convert');\n",
              "        buttonEl.style.display =\n",
              "          google.colab.kernel.accessAllowed ? 'block' : 'none';\n",
              "\n",
              "        async function convertToInteractive(key) {\n",
              "          const element = document.querySelector('#df-551814ef-5b9e-4822-9fa3-101e300184fd');\n",
              "          const dataTable =\n",
              "            await google.colab.kernel.invokeFunction('convertToInteractive',\n",
              "                                                     [key], {});\n",
              "          if (!dataTable) return;\n",
              "\n",
              "          const docLinkHtml = 'Like what you see? Visit the ' +\n",
              "            '<a target=\"_blank\" href=https://colab.research.google.com/notebooks/data_table.ipynb>data table notebook</a>'\n",
              "            + ' to learn more about interactive tables.';\n",
              "          element.innerHTML = '';\n",
              "          dataTable['output_type'] = 'display_data';\n",
              "          await google.colab.output.renderOutput(dataTable, element);\n",
              "          const docLink = document.createElement('div');\n",
              "          docLink.innerHTML = docLinkHtml;\n",
              "          element.appendChild(docLink);\n",
              "        }\n",
              "      </script>\n",
              "    </div>\n",
              "  </div>\n",
              "  "
            ]
          },
          "metadata": {},
          "execution_count": 43
        }
      ]
    },
    {
      "cell_type": "code",
      "source": [
        "final_out = {}\n",
        "\n",
        "for i in tqdm(range(100)):\n",
        "    to_test = test_data[\"Phrase\"].iloc[i]\n",
        "#     print(to_test)\n",
        "\n",
        "    test_input = map_to_input(to_test, SEQ_LEN)\n",
        "    input_ids = test_input[\"input_ids\"]\n",
        "    mask = test_input[\"attention_mask\"]\n",
        "    \n",
        "    pred = model.predict([input_ids, mask], verbose=0)\n",
        "#     print(f\"The output class is: {classes[np.argmax(pred[0])]}\")\n",
        "    final_out[to_test] = classes[np.argmax(pred[0])]"
      ],
      "metadata": {
        "colab": {
          "base_uri": "https://localhost:8080/"
        },
        "id": "voF9fY3Z-k0T",
        "outputId": "3e794436-b8e0-4d0f-cfec-c69d78a87e55"
      },
      "execution_count": null,
      "outputs": [
        {
          "output_type": "stream",
          "name": "stderr",
          "text": [
            "100%|██████████| 100/100 [00:12<00:00,  7.97it/s]\n"
          ]
        }
      ]
    },
    {
      "cell_type": "code",
      "source": [
        "for i in final_out.keys():\n",
        "    print(f\"{i[:100]} ==> {final_out[i]}\\n\")"
      ],
      "metadata": {
        "colab": {
          "base_uri": "https://localhost:8080/"
        },
        "id": "M78ZsTnY-0nh",
        "outputId": "6739d69c-7050-4234-be0e-b6673b6b8daa"
      },
      "execution_count": null,
      "outputs": [
        {
          "output_type": "stream",
          "name": "stdout",
          "text": [
            "An intermittently pleasing but mostly routine effort . ==> 3\n",
            "\n",
            "Kidman is really the only thing that 's worth watching in Birthday Girl , a film by the stage-traine ==> 4\n",
            "\n",
            "Once you get into its rhythm ... the movie becomes a heady experience . ==> 2\n",
            "\n",
            "I kept wishing I was watching a documentary about the wartime Navajos and what they accomplished ins ==> 3\n",
            "\n",
            "Kinnear does n't aim for our sympathy , but rather delivers a performance of striking skill and dept ==> 3\n",
            "\n",
            "All ends well , sort of , but the frenzied comic moments never click . ==> 2\n",
            "\n",
            "It 's a hoot and a half , and a great way for the American people to see what a candidate is like wh ==> 4\n",
            "\n",
            "The weight of the piece , the unerring professionalism of the chilly production , and the fascinatio ==> 3\n",
            "\n",
            "The film contains no good jokes , no good scenes , barely a moment when Carvey 's Saturday Night Liv ==> 2\n",
            "\n",
            "An offbeat , sometimes gross and surprisingly appealing animated film about the true meaning of the  ==> 4\n",
            "\n",
            "It suggests the wide-ranging effects of media manipulation , from the kind of reporting that is done ==> 4\n",
            "\n",
            "As Tweedy talks about canning his stockbroker and repairing his pool , you yearn for a few airborne  ==> 2\n",
            "\n",
            "For all its failed connections , Divine Secrets of the Ya-Ya Sisterhood is nurturing , in a gauzy ,  ==> 4\n",
            "\n",
            "It would be hard to think of a recent movie that has worked this hard to achieve this little fun . ==> 1\n",
            "\n",
            "The story and structure are well-honed . ==> 4\n",
            "\n",
            "Chilling but uncommercial look into the mind of Jeffrey Dahmer , serial killer . ==> 2\n",
            "\n",
            "... the movie is just a plain old monster . ==> 2\n",
            "\n",
            "This film 's relationship to actual tension is the same as what Christmas-tree flocking in a spray c ==> 2\n",
            "\n",
            "A depressing confirmation of everything those of us who do n't object to the description `` unelecte ==> 2\n",
            "\n",
            "You do n't have to know about music to appreciate the film 's easygoing blend of comedy and romance  ==> 4\n",
            "\n",
            "However , it lacks grandeur and that epic quality often associated with Stevenson 's tale as well as ==> 4\n",
            "\n",
            "Although occasionally static to the point of resembling a stage play , the film delivers a solid mix ==> 2\n",
            "\n",
            "An occasionally funny , but overall limp , fish-out-of-water story . ==> 3\n",
            "\n",
            "a nightmare date with a half-formed wit done a great disservice by a lack of critical distance and a ==> 2\n",
            "\n",
            "A fitfully amusing romp that , if nothing else , will appeal to fans of Malcolm in the Middle and it ==> 4\n",
            "\n",
            "If I Spy were funny -LRB- enough -RRB- or exciting -LRB- enough -RRB- then it would be fairly simple ==> 3\n",
            "\n",
            "Borrows from so many literary and cinematic sources that this future world feels absolutely deja vu  ==> 3\n",
            "\n",
            "Despite its title , Amy 's Orgasm is not a porno , though it is as tedious as one . ==> 2\n",
            "\n",
            "That dogged good will of the parents and ` vain ' Jia 's defoliation of ego , make the film touching ==> 2\n",
            "\n",
            "Imagine a really bad community theater production of West Side Story without the songs . ==> 1\n",
            "\n",
            "It 's an old story , but a lively script , sharp acting and partially animated interludes make Just  ==> 4\n",
            "\n",
            "The most hopelessly monotonous film of the year , noteworthy only for the gimmick of being filmed as ==> 1\n",
            "\n",
            "Prancing his way through the tailor-made part of a male hooker approaching the end of his vitality , ==> 2\n",
            "\n",
            "A distant , even sterile , yet compulsively watchable look at the sordid life of Hogan 's Heroes sta ==> 3\n",
            "\n",
            "Creepy but ultimately unsatisfying thriller . ==> 4\n",
            "\n",
            "I just did n't care as much for the story . ==> 2\n",
            "\n",
            "Extreme Oops - oops , ops , no matter how you spell it , it 's still a mistake to go see it . ==> 3\n",
            "\n",
            "What Jackson has accomplished here is amazing on a technical level . ==> 5\n",
            "\n",
            "If you 've ever entertained the notion of doing what the title of this film implies , what Sex With  ==> 3\n",
            "\n",
            "A pleasant romantic comedy . ==> 4\n",
            "\n",
            "A movie that tries to fuse the two ` woods ' but winds up a Bolly-Holly masala mess . ==> 2\n",
            "\n",
            "Though of particular interest to students and enthusiast of international dance and world music , th ==> 4\n",
            "\n",
            "Though only 60 minutes long , the film is packed with information and impressions . ==> 4\n",
            "\n",
            "  ==> 5\n",
            "\n",
            "There 's a disturbing ` Great White Hope ' undertone to The Other Side of Heaven that subtly undermi ==> 4\n",
            "\n",
            "Watching Scarlet Diva , one is poised for titillation , raw insight or both . ==> 3\n",
            "\n",
            "Prurient playthings aside , there 's little to love about this English trifle . ==> 2\n",
            "\n",
            "If you believe any of this , I can make you a real deal on leftover Enron stock that will double in  ==> 1\n",
            "\n",
            "It 's basically an overlong episode of Tales from the Crypt . ==> 2\n",
            "\n",
            "And when you 're talking about a slapstick comedy , that 's a pretty big problem . ==> 2\n",
            "\n",
            "For close to two hours the audience is forced to endure three terminally depressed , mostly inarticu ==> 1\n",
            "\n",
            "A wildly funny prison caper . ==> 5\n",
            "\n",
            "Nine Queens is not only than a frighteningly capable debut and genre piece , but also a snapshot of  ==> 4\n",
            "\n",
            "The movie exists for its soccer action and its fine acting . ==> 5\n",
            "\n",
            "There 's not enough here to justify the almost two hours . ==> 2\n",
            "\n",
            "Kinnear gives a tremendous performance . ==> 5\n",
            "\n",
            "This is one for the ages . ==> 3\n",
            "\n",
            "The special effects and many scenes of weightlessness look as good or better than in the original ,  ==> 5\n",
            "\n",
            "George Clooney proves he 's quite a talented director and Sam Rockwell shows us he 's a world-class  ==> 5\n",
            "\n",
            "Over-the-top and a bit ostentatious , this is a movie that 's got oodles of style and substance . ==> 4\n",
            "\n",
            "Instead , he shows them the respect they are due . ==> 2\n",
            "\n",
            "Although it bangs a very cliched drum at times , this crowd-pleaser 's fresh dialogue , energetic mu ==> 4\n",
            "\n",
            "Hubac 's ==> 3\n",
            "\n",
            "Michael Gerbosi 's script is economically packed with telling scenes . ==> 4\n",
            "\n",
            "There is not a character in the movie with a shred of plausibility , not an event that is believable ==> 1\n",
            "\n",
            "Like most sequels , it takes what worked last time , repeats it and adds more characters , more stun ==> 3\n",
            "\n",
            "The film 's few ideas are stretched to the point of evaporation ; the whole central section is one b ==> 2\n",
            "\n",
            "It 's like a poem . ==> 2\n",
            "\n",
            "Enjoy it for what it is ; you can hate yourself later . ==> 1\n",
            "\n",
            "I 'll bet the video game is a lot more fun than the film . ==> 4\n",
            "\n",
            "Do n't plan on the perfect ending , but Sweet Home Alabama hits the mark with critics who escaped fr ==> 3\n",
            "\n",
            "It 's the best film of the year so far , the benchmark against which all other Best Picture contende ==> 5\n",
            "\n",
            "Generally , Clockstoppers will fulfill your wildest fantasies about being a different kind of time t ==> 5\n",
            "\n",
            "It feels like a community theater production of a great Broadway play : Even at its best , it will n ==> 4\n",
            "\n",
            "Effectively feeds our senses with the chilling sights and sounds from within the camp to create a co ==> 4\n",
            "\n",
            "Unfortunately , the picture failed to capture me . ==> 1\n",
            "\n",
            "The actors are appealing , but Elysian Fields is idiotic and absurdly sentimental . ==> 2\n",
            "\n",
            "Nonsensical , dull `` cyber-horror '' flick is a grim , hollow exercise in flat scares and bad actin ==> 1\n",
            "\n",
            "Every bit as bogus as most Disney live action family movies are -- no real plot , no real conflict , ==> 1\n",
            "\n",
            "It ca n't decide if it wants to be a mystery\\/thriller , a romance or a comedy . ==> 3\n",
            "\n",
            "A one-trick pony whose few T&A bits still ca n't save itself from being unoriginal , unfunny and unr ==> 1\n",
            "\n",
            "This examination of aquatic life off the shores of the Baja California peninsula of Mexico offers an ==> 4\n",
            "\n",
            "Kwan makes the mix-and - match metaphors intriguing , while lulling us into torpor with his cultivat ==> 4\n",
            "\n",
            "A woozy , roisterous , exhausting mess , and the off-beat casting of its two leads turns out to be a ==> 1\n",
            "\n",
            "A morality tale whose thought-provoking potential is hampered by a made-for-TV look , rigid performa ==> 3\n",
            "\n",
            "Scotland , PA. blurs the line between black comedy and black hole . ==> 3\n",
            "\n",
            "What 's surprising about Full Frontal is that despite its overt self-awareness , parts of the movie  ==> 4\n",
            "\n",
            "-LRB- A -RRB- rare , beautiful film . ==> 3\n",
            "\n",
            "The film has just enough of everything -- re-enactments , archival footage , talking-head interviews ==> 5\n",
            "\n",
            "And if The Hours wins ` Best Picture ' I just might . ==> 4\n",
            "\n",
            "And in this regard , On Guard delivers . ==> 4\n",
            "\n",
            "It wo n't bust your gut -- and it 's not intended to -- it 's merely a blandly cinematic surgical ex ==> 1\n",
            "\n",
            "Remarkably accessible and affecting . ==> 5\n",
            "\n",
            "If this disposable tissue has one wild card , it 's John Turturro , who 's simply fab as a Spanish b ==> 2\n",
            "\n",
            "If this movie belonged to a sorority , it would be called Beta Alpha Delta . ==> 3\n",
            "\n",
            "To enjoy this movie 's sharp dialogue and delightful performance by Jolie and Burns , you have to gl ==> 4\n",
            "\n",
            "An intelligent fiction about learning through cultural clash . ==> 4\n",
            "\n",
            "Plays like a volatile and overlong W magazine fashion spread . ==> 1\n",
            "\n",
            "It is ridiculous , of course ... but it is also refreshing , disarming , and just outright enjoyable ==> 5\n",
            "\n",
            "Brilliant ! ' ==> 3\n",
            "\n"
          ]
        }
      ]
    }
  ]
}